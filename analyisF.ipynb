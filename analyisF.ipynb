{
 "cells": [
  {
   "cell_type": "code",
   "execution_count": 1,
   "id": "2c1e1c4c-26b6-43f2-8a4e-845f3387014a",
   "metadata": {},
   "outputs": [
    {
     "name": "stdout",
     "output_type": "stream",
     "text": [
      "Looking in indexes: https://pypi.python.org/simple/\n",
      "Requirement already satisfied: opencv-python in c:\\users\\oopli\\anaconda3\\lib\\site-packages (4.8.1.78)\n",
      "Requirement already satisfied: numpy>=1.17.0 in c:\\users\\oopli\\anaconda3\\lib\\site-packages (from opencv-python) (1.23.5)\n"
     ]
    }
   ],
   "source": [
    "# Import necessary libraries\n",
    "!pip install opencv-python --index-url=https://pypi.python.org/simple/\n",
    "import requests\n",
    "from bs4 import BeautifulSoup\n",
    "import cv2\n",
    "import numpy as np\n",
    "import pandas as pd\n",
    "from sklearn.feature_extraction.text import TfidfVectorizer\n",
    "from sklearn.metrics.pairwise import cosine_similarity\n",
    "import matplotlib.pyplot as plt\n"
   ]
  },
  {
   "cell_type": "code",
   "execution_count": 5,
   "id": "cb3eed4c-5382-473e-b1a7-8403645fd6a0",
   "metadata": {},
   "outputs": [
    {
     "name": "stdout",
     "output_type": "stream",
     "text": [
      "Local Videos:\n",
      "1. AVSEQ01.DAT\n",
      "2. AVSEQ02.DAT\n",
      "3. AVSEQ03.DAT\n",
      "4. AVSEQ04.DAT\n"
     ]
    }
   ],
   "source": [
    "# Step 1: Data Collection\n",
    "import os\n",
    "\n",
    "def get_local_videos(directory_path):\n",
    "    # Ensure the directory exists\n",
    "    if not os.path.exists(directory_path):\n",
    "        print(f\"Directory not found: {directory_path}\")\n",
    "        return None\n",
    "\n",
    "    # Get a list of all files in the directory\n",
    "    all_files = os.listdir(directory_path)\n",
    "\n",
    "    # Filter out only video files (you can customize the extensions)\n",
    "    video_files = [file for file in all_files if file.endswith(('.mp4', '.avi', '.mkv','.DAT'))]\n",
    "\n",
    "    return video_files\n",
    "\n",
    "# Specify the directory path where your videos are stored\n",
    "video_directory = 'C:/Windows.old/Users/AZEEZ205/Downloads/AchivalVideos'\n",
    "\n",
    "# Example usage:\n",
    "local_videos = get_local_videos(video_directory)\n",
    "\n",
    "if local_videos:\n",
    "    print(\"Local Videos:\")\n",
    "    for i, video in enumerate(local_videos, start=1):\n",
    "        print(f\"{i}. {video}\")\n",
    "else:\n",
    "    print(\"No videos found in the specified directory.\")"
   ]
  },
  {
   "cell_type": "code",
   "execution_count": 6,
   "id": "b861856d-acfa-427d-9ef5-c2a34a431630",
   "metadata": {},
   "outputs": [
    {
     "name": "stdout",
     "output_type": "stream",
     "text": [
      "Failed to read image: path/to/image1.jpg\n",
      "Failed to read image: path/to/image2.jpg\n",
      "Extracted Features:\n",
      "{'image_features': [], 'video_features': [], 'video_description_features': <2x3 sparse matrix of type '<class 'numpy.float64'>'\n",
      "\twith 6 stored elements in Compressed Sparse Row format>}\n"
     ]
    }
   ],
   "source": [
    "import cv2\n",
    "import os\n",
    "import numpy as np\n",
    "from sklearn.feature_extraction.text import TfidfVectorizer\n",
    "\n",
    "# Step 3: Feature Extraction\n",
    "# Extract features from images and videos\n",
    "def extract_features(image_urls, video_directory, video_descriptions):\n",
    "    # Feature extraction from images\n",
    "    image_features = []\n",
    "\n",
    "    for image_url in image_urls:\n",
    "        # Download and process the image (you may need to adjust the image loading based on your actual scenario)\n",
    "        img = cv2.imread(image_url)\n",
    "        \n",
    "        if img is not None:\n",
    "            # Extract features from the image using image processing techniques\n",
    "            # For example, you could use color histograms, edge detection, or deep learning-based methods\n",
    "\n",
    "            # Dummy feature for illustration (replace with your actual image feature extraction)\n",
    "            dummy_feature = np.random.rand(10)\n",
    "            image_features.append(dummy_feature)\n",
    "        else:\n",
    "            print(f\"Failed to read image: {image_url}\")\n",
    "\n",
    "    # Feature extraction from videos\n",
    "    video_features = []\n",
    "\n",
    "    # Read video files from the specified directory\n",
    "    for video_file in os.listdir(video_directory):\n",
    "        if video_file.endswith(('.mp4', '.avi', '.mkv')):\n",
    "            video_path = os.path.join(video_directory, video_file)\n",
    "            cap = cv2.VideoCapture(video_path)\n",
    "\n",
    "            frame_count = int(cap.get(cv2.CAP_PROP_FRAME_COUNT))\n",
    "\n",
    "            # Dummy feature for illustration (replace with your actual video feature extraction)\n",
    "            dummy_feature = np.random.rand(frame_count, 10)\n",
    "            video_features.append(dummy_feature)\n",
    "\n",
    "            cap.release()\n",
    "\n",
    "    # Feature extraction from video descriptions\n",
    "    vectorizer = TfidfVectorizer()\n",
    "    video_description_features = vectorizer.fit_transform(video_descriptions)\n",
    "\n",
    "    return {'image_features': image_features, 'video_features': video_features, 'video_description_features': video_description_features}\n",
    "\n",
    "# Example usage:\n",
    "image_urls = [\"path/to/image1.jpg\", \"path/to/image2.jpg\"]\n",
    "video_directory = 'C:/Windows.old/Users/AZEEZ205/Downloads/AchivalVideos'\n",
    "#'C:/Users/obadi/Downloads/AchivalVideos'\"C:\\Windows.old\\Users\\AZEEZ205\\Downloads\\AchivalVideos\"\n",
    "video_descriptions = [\"Description of video 1.\", \"Description of video 2.\"]\n",
    "\n",
    "features = extract_features(image_urls, video_directory, video_descriptions)\n",
    "print(\"Extracted Features:\")\n",
    "print(features)\n"
   ]
  },
  {
   "cell_type": "code",
   "execution_count": 2,
   "id": "ef3ca8da-851d-4e8c-b95c-a95e59999a5b",
   "metadata": {},
   "outputs": [
    {
     "name": "stdout",
     "output_type": "stream",
     "text": [
      "Integrated Data:\n",
      "{'images': [{'url': 'image_url_1.jpg', 'feature': [0.1, 0.2, 0.3]}, {'url': 'image_url_2.jpg', 'feature': [0.4, 0.5, 0.6]}], 'videos': [{'url': 'video_url_1.mp4'}, {'url': 'video_url_2.mp4'}], 'features': [array([0.1, 0.2, 0.3]), array([0.4, 0.5, 0.6])]}\n"
     ]
    }
   ],
   "source": [
    "# Step 4: Data Integration\n",
    "# Combine information from various sources\n",
    "def integrate_data(scraped_data, extracted_features):\n",
    "    integrated_data = {'images': [], 'videos': [], 'features': []}\n",
    "\n",
    "    for i in range(len(scraped_data['images'])):\n",
    "        image_url = scraped_data['images'][i]['url']\n",
    "        video_url = scraped_data['videos'][i]['url']\n",
    "        image_feature = scraped_data['images'][i]['feature']\n",
    "\n",
    "        integrated_data['images'].append({'url': image_url, 'feature': image_feature})\n",
    "        integrated_data['videos'].append({'url': video_url})\n",
    "        \n",
    "        # Convert the list to a NumPy array\n",
    "        features_array = np.array(extracted_features['video_description_features'][i])\n",
    "        integrated_data['features'].append(features_array)\n",
    "\n",
    "    return integrated_data\n",
    "\n",
    "# Example usage:\n",
    "scraped_data = {'images': [{'url': 'image_url_1.jpg', 'feature': [0.1, 0.2, 0.3]},\n",
    "                            {'url': 'image_url_2.jpg', 'feature': [0.4, 0.5, 0.6]}],\n",
    "                'videos': [{'url': 'video_url_1.mp4'}, {'url': 'video_url_2.mp4'}]}\n",
    "extracted_features = {'image_features': [np.random.rand(10), np.random.rand(10)],\n",
    "                      'video_description_features': [[0.1, 0.2, 0.3], [0.4, 0.5, 0.6]]}\n",
    "\n",
    "integrated_data = integrate_data(scraped_data, extracted_features)\n",
    "print(\"Integrated Data:\")\n",
    "print(integrated_data)"
   ]
  },
  {
   "cell_type": "code",
   "execution_count": 7,
   "id": "ab16952e-59e7-48a0-8725-21da59a667ba",
   "metadata": {},
   "outputs": [],
   "source": [
    "# Step 5: Data Storage\n",
    "# Store data in a Pandas DataFrame or a database\n",
    "def store_data(integrated_data):\n",
    "    # Create a Pandas DataFrame for integrated data\n",
    "    df = pd.DataFrame({\n",
    "        'image_url': [entry['url'] for entry in integrated_data['images']],\n",
    "        'video_url': [entry['url'] for entry in integrated_data['videos']],\n",
    "        'image_feature': [entry['feature'] for entry in integrated_data['images']],\n",
    "        'video_description_feature': integrated_data['features']\n",
    "    })\n",
    "\n",
    "    # Save the DataFrame to a CSV file (you can choose another format based on your needs)\n",
    "    df.to_csv('integrated_data.csv', index=False)\n",
    "\n",
    "# Example usage:\n",
    "integrated_data = {\n",
    "    'images': [{'url': 'image_url_1.jpg', 'feature': [0.1, 0.2, 0.3]},\n",
    "               {'url': 'image_url_2.jpg', 'feature': [0.4, 0.5, 0.6]}],\n",
    "    'videos': [{'url': 'video_url_1.mp4'}, {'url': 'video_url_2.mp4'}],\n",
    "    'features': [[0.1, 0.2, 0.3], [0.4, 0.5, 0.6]]\n",
    "}\n",
    "\n",
    "store_data(integrated_data)"
   ]
  },
  {
   "cell_type": "code",
   "execution_count": 8,
   "id": "44111759-5c55-4050-9f43-5d3a02fd76d5",
   "metadata": {},
   "outputs": [
    {
     "name": "stdout",
     "output_type": "stream",
     "text": [
      "Columns in df_images: Index(['image_url', 'image_feature'], dtype='object')\n",
      "Columns in df_videos: Index(['video_url'], dtype='object')\n",
      "Columns in df_features: Index(['feature_0', 'feature_1', 'feature_2'], dtype='object')\n",
      "Columns in concatenated DataFrame: Index(['image_url', 'image_feature', 'video_url', 'feature_0', 'feature_1',\n",
      "       'feature_2'],\n",
      "      dtype='object')\n",
      "Analysis Results:\n",
      "Summary Statistics:\n",
      "       feature_0  feature_1  feature_2\n",
      "count   2.000000   2.000000   2.000000\n",
      "mean    0.250000   0.350000   0.450000\n",
      "std     0.212132   0.212132   0.212132\n",
      "min     0.100000   0.200000   0.300000\n",
      "25%     0.175000   0.275000   0.375000\n",
      "50%     0.250000   0.350000   0.450000\n",
      "75%     0.325000   0.425000   0.525000\n",
      "max     0.400000   0.500000   0.600000\n",
      "\n",
      "Correlation Matrix:\n",
      "           feature_0  feature_1  feature_2\n",
      "feature_0        1.0        1.0        1.0\n",
      "feature_1        1.0        1.0        1.0\n",
      "feature_2        1.0        1.0        1.0\n"
     ]
    }
   ],
   "source": [
    "import pandas as pd\n",
    "import numpy as np\n",
    "\n",
    "def analyze_data(integrated_data):\n",
    "    # Create separate DataFrames for images, videos, and features\n",
    "    df_images = pd.DataFrame([\n",
    "        {'image_url': entry['url'], 'image_feature': entry['feature']}\n",
    "        for entry in integrated_data['images']\n",
    "    ])\n",
    "\n",
    "    df_videos = pd.DataFrame([\n",
    "        {'video_url': entry['url']}\n",
    "        for entry in integrated_data['videos']\n",
    "    ])\n",
    "\n",
    "    df_features = pd.DataFrame(integrated_data['features'], columns=[f'feature_{i}' for i in range(len(integrated_data['features'][0]))])\n",
    "\n",
    "    # Check the column names and contents\n",
    "    print(\"Columns in df_images:\", df_images.columns)\n",
    "    print(\"Columns in df_videos:\", df_videos.columns)\n",
    "    print(\"Columns in df_features:\", df_features.columns)\n",
    "\n",
    "    # Concatenate DataFrames along columns\n",
    "    df = pd.concat([df_images, df_videos, df_features], axis=1)\n",
    "\n",
    "    # Check the column names in the concatenated DataFrame\n",
    "    print(\"Columns in concatenated DataFrame:\", df.columns)\n",
    "\n",
    "    # Flatten the 'features' column\n",
    "    df['flat_features'] = df['image_feature'].apply(np.ravel)\n",
    "\n",
    "    # Select only numeric columns for analysis\n",
    "    numeric_columns = df.select_dtypes(include=['float64', 'int64']).columns\n",
    "\n",
    "    if not numeric_columns.empty:\n",
    "        numeric_data = df[numeric_columns]\n",
    "\n",
    "        # Basic statistical analysis\n",
    "        summary_statistics = numeric_data.describe()\n",
    "\n",
    "        # Correlation analysis\n",
    "        correlation_matrix = numeric_data.corr()\n",
    "\n",
    "        return {'summary_statistics': summary_statistics, 'correlation_matrix': correlation_matrix}\n",
    "    else:\n",
    "        print(\"No numeric columns to analyze.\")\n",
    "        return None\n",
    "\n",
    "# Example usage:\n",
    "integrated_data = {\n",
    "    'images': [{'url': 'image_url_1.jpg', 'feature': [0.1, 0.2, 0.3]},\n",
    "               {'url': 'image_url_2.jpg', 'feature': [0.4, 0.5, 0.6]}],\n",
    "    'videos': [{'url': 'video_url_1.mp4'}, {'url': 'video_url_2.mp4'}],\n",
    "    'features': [[0.1, 0.2, 0.3], [0.4, 0.5, 0.6]]\n",
    "}\n",
    "\n",
    "analysis_results = analyze_data(integrated_data)\n",
    "\n",
    "if analysis_results:\n",
    "    print(\"Analysis Results:\")\n",
    "    print(\"Summary Statistics:\")\n",
    "    print(analysis_results['summary_statistics'])\n",
    "    print(\"\\nCorrelation Matrix:\")\n",
    "    print(analysis_results['correlation_matrix'])"
   ]
  },
  {
   "cell_type": "code",
   "execution_count": 9,
   "id": "02e26719-c785-4592-bdf7-62543e220f4b",
   "metadata": {},
   "outputs": [
    {
     "data": {
      "image/png": "[encoded data removed]",
      "text/plain": [
       "<Figure size 720x432 with 1 Axes>"
      ]
     },
     "metadata": {
      "needs_background": "light"
     },
     "output_type": "display_data"
    }
   ],
   "source": [
    "import pandas as pd\n",
    "import matplotlib.pyplot as plt  # Add this import statement\n",
    "import numpy as np\n",
    "\n",
    "def visualize_data(integrated_data):\n",
    "    # Assuming you saved the integrated data to a CSV file\n",
    "    df = pd.read_csv('integrated_data.csv')  # Change the filename if you used a different format\n",
    "\n",
    "    # Example: Scatter plot for visualizing the relationship between image features and video description features\n",
    "    plt.figure(figsize=(10, 6))\n",
    "    plt.scatter(df['image_feature'], df['video_description_feature'], alpha=0.7)\n",
    "    plt.title('Scatter Plot: Image Features vs. Video Description Features')\n",
    "    plt.xlabel('Image Features')\n",
    "    plt.ylabel('Video Description Features')\n",
    "    plt.show()\n",
    "    # You can create more visualizations based on your specific analysis goals\n",
    "\n",
    "# Example usage:\n",
    "visualize_data(integrated_data)"
   ]
  },
  {
   "cell_type": "code",
   "execution_count": 10,
   "id": "7bb4018e-5a28-44e0-bc36-036ee2fb782a",
   "metadata": {},
   "outputs": [
    {
     "name": "stdout",
     "output_type": "stream",
     "text": [
      "Data analysis report generated and saved.\n"
     ]
    }
   ],
   "source": [
    "# Step 8: Reporting\n",
    "# Generate a report summarizing the findings\n",
    "def generate_report(analysis_results):\n",
    "    if analysis_results:\n",
    "        # Extract relevant information from the analysis results\n",
    "        summary_statistics = analysis_results['summary_statistics']\n",
    "        correlation_matrix = analysis_results['correlation_matrix']\n",
    "\n",
    "        # Create a simple text-based report\n",
    "        report = f\"Data Analysis Report\\n\\n\"\n",
    "        report += \"Summary Statistics:\\n\"\n",
    "        report += str(summary_statistics) + \"\\n\\n\"\n",
    "    \n",
    "        report += \"Correlation Matrix:\\n\"\n",
    "        report += str(correlation_matrix) + \"\\n\"\n",
    "\n",
    "        # Save the report to a text file\n",
    "        with open('data_analysis_report.txt', 'w') as file:\n",
    "            file.write(report)\n",
    "\n",
    "        print(\"Data analysis report generated and saved.\")\n",
    "    else:\n",
    "        print(\"Analysis results are None. Cannot generate the report.\")\n",
    "\n",
    "# Example usage:\n",
    "generate_report(analysis_results)"
   ]
  },
  {
   "cell_type": "code",
   "execution_count": null,
   "id": "73e9571d-6963-49a0-aeef-acef067eef26",
   "metadata": {},
   "outputs": [],
   "source": []
  }
 ],
 "metadata": {
  "kernelspec": {
   "display_name": "Python 3 (ipykernel)",
   "language": "python",
   "name": "python3"
  },
  "language_info": {
   "codemirror_mode": {
    "name": "ipython",
    "version": 3
   },
   "file_extension": ".py",
   "mimetype": "text/x-python",
   "name": "python",
   "nbconvert_exporter": "python",
   "pygments_lexer": "ipython3",
   "version": "3.9.12"
  }
 },
 "nbformat": 4,
 "nbformat_minor": 5
}

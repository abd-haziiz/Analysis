{
 "cells": [
  {
   "cell_type": "markdown",
   "id": "a6a1fb2a",
   "metadata": {},
   "source": [
    "### Big Data Analytics Framework for Efficient Management & Preservation of Digital Archives & Libraries"
   ]
  },
  {
   "cell_type": "markdown",
   "id": "2ea59c85",
   "metadata": {},
   "source": [
    "**Libraries**"
   ]
  },
  {
   "cell_type": "code",
   "execution_count": 1,
   "id": "3a2e0814",
   "metadata": {},
   "outputs": [],
   "source": [
    "import warnings\n",
    "warnings.filterwarnings(\"ignore\")"
   ]
  },
  {
   "cell_type": "code",
   "execution_count": 2,
   "id": "32be76e9",
   "metadata": {},
   "outputs": [
    {
     "name": "stdout",
     "output_type": "stream",
     "text": [
      "Looking in indexes: https://pypi.python.org/simple/\n",
      "Requirement already satisfied: opencv-python in c:\\users\\oopli\\anaconda3\\lib\\site-packages (4.8.1.78)\n",
      "Requirement already satisfied: numpy>=1.17.0 in c:\\users\\oopli\\anaconda3\\lib\\site-packages (from opencv-python) (1.23.5)\n"
     ]
    }
   ],
   "source": [
    "!pip install opencv-python --index-url=https://pypi.python.org/simple/"
   ]
  },
  {
   "cell_type": "code",
   "execution_count": 3,
   "id": "611f1205",
   "metadata": {},
   "outputs": [
    {
     "name": "stdout",
     "output_type": "stream",
     "text": [
      "Requirement already satisfied: moviepy in c:\\users\\oopli\\anaconda3\\lib\\site-packages (1.0.3)\n",
      "Requirement already satisfied: decorator<5.0,>=4.0.2 in c:\\users\\oopli\\anaconda3\\lib\\site-packages (from moviepy) (4.4.2)\n",
      "Requirement already satisfied: tqdm<5.0,>=4.11.2 in c:\\users\\oopli\\anaconda3\\lib\\site-packages (from moviepy) (4.64.0)\n",
      "Requirement already satisfied: requests<3.0,>=2.8.1 in c:\\users\\oopli\\anaconda3\\lib\\site-packages (from moviepy) (2.27.1)\n",
      "Requirement already satisfied: proglog<=1.0.0 in c:\\users\\oopli\\anaconda3\\lib\\site-packages (from moviepy) (0.1.10)\n",
      "Requirement already satisfied: numpy>=1.17.3 in c:\\users\\oopli\\anaconda3\\lib\\site-packages (from moviepy) (1.23.5)\n",
      "Requirement already satisfied: imageio<3.0,>=2.5 in c:\\users\\oopli\\anaconda3\\lib\\site-packages (from moviepy) (2.9.0)\n",
      "Requirement already satisfied: imageio-ffmpeg>=0.2.0 in c:\\users\\oopli\\anaconda3\\lib\\site-packages (from moviepy) (0.4.9)\n",
      "Requirement already satisfied: pillow in c:\\users\\oopli\\anaconda3\\lib\\site-packages (from imageio<3.0,>=2.5->moviepy) (10.0.1)\n",
      "Requirement already satisfied: setuptools in c:\\users\\oopli\\anaconda3\\lib\\site-packages (from imageio-ffmpeg>=0.2.0->moviepy) (61.2.0)\n",
      "Requirement already satisfied: urllib3<1.27,>=1.21.1 in c:\\users\\oopli\\anaconda3\\lib\\site-packages (from requests<3.0,>=2.8.1->moviepy) (1.26.9)\n",
      "Requirement already satisfied: certifi>=2017.4.17 in c:\\users\\oopli\\anaconda3\\lib\\site-packages (from requests<3.0,>=2.8.1->moviepy) (2023.11.17)\n",
      "Requirement already satisfied: charset-normalizer~=2.0.0 in c:\\users\\oopli\\anaconda3\\lib\\site-packages (from requests<3.0,>=2.8.1->moviepy) (2.0.4)\n",
      "Requirement already satisfied: idna<4,>=2.5 in c:\\users\\oopli\\anaconda3\\lib\\site-packages (from requests<3.0,>=2.8.1->moviepy) (3.3)\n",
      "Requirement already satisfied: colorama in c:\\users\\oopli\\anaconda3\\lib\\site-packages (from tqdm<5.0,>=4.11.2->moviepy) (0.4.4)\n"
     ]
    }
   ],
   "source": [
    "!pip install moviepy "
   ]
  },
  {
   "cell_type": "code",
   "execution_count": 4,
   "id": "2ff5a325",
   "metadata": {},
   "outputs": [
    {
     "name": "stdout",
     "output_type": "stream",
     "text": [
      "Requirement already satisfied: SpeechRecognition in c:\\users\\oopli\\anaconda3\\lib\\site-packages (3.10.1)\n",
      "Requirement already satisfied: requests>=2.26.0 in c:\\users\\oopli\\anaconda3\\lib\\site-packages (from SpeechRecognition) (2.27.1)\n",
      "Requirement already satisfied: typing-extensions in c:\\users\\oopli\\anaconda3\\lib\\site-packages (from SpeechRecognition) (4.1.1)\n",
      "Requirement already satisfied: urllib3<1.27,>=1.21.1 in c:\\users\\oopli\\anaconda3\\lib\\site-packages (from requests>=2.26.0->SpeechRecognition) (1.26.9)\n",
      "Requirement already satisfied: certifi>=2017.4.17 in c:\\users\\oopli\\anaconda3\\lib\\site-packages (from requests>=2.26.0->SpeechRecognition) (2023.11.17)\n",
      "Requirement already satisfied: charset-normalizer~=2.0.0 in c:\\users\\oopli\\anaconda3\\lib\\site-packages (from requests>=2.26.0->SpeechRecognition) (2.0.4)\n",
      "Requirement already satisfied: idna<4,>=2.5 in c:\\users\\oopli\\anaconda3\\lib\\site-packages (from requests>=2.26.0->SpeechRecognition) (3.3)\n"
     ]
    }
   ],
   "source": [
    "!pip install SpeechRecognition"
   ]
  },
  {
   "cell_type": "code",
   "execution_count": 5,
   "id": "0e8f5a2f",
   "metadata": {},
   "outputs": [
    {
     "name": "stdout",
     "output_type": "stream",
     "text": [
      "Requirement already satisfied: pydub in c:\\users\\oopli\\anaconda3\\lib\\site-packages (0.25.1)\n"
     ]
    }
   ],
   "source": [
    "!pip install pydub"
   ]
  },
  {
   "cell_type": "code",
   "execution_count": 6,
   "id": "a72e7c05",
   "metadata": {},
   "outputs": [],
   "source": [
    "import os\n",
    "import numpy as np\n",
    "import pandas as pd\n",
    "import matplotlib.pyplot as plt\n",
    "import cv2\n",
    "import shutil\n",
    "from sklearn.feature_extraction.text import TfidfVectorizer\n",
    "from sklearn.metrics.pairwise import cosine_similarity"
   ]
  },
  {
   "cell_type": "markdown",
   "id": "76a152fc",
   "metadata": {},
   "source": [
    "**Data Sorting**"
   ]
  },
  {
   "cell_type": "code",
   "execution_count": 7,
   "id": "3e641b2c",
   "metadata": {},
   "outputs": [],
   "source": [
    "def categorize_and_move_files(directory_path):\n",
    "    # Define folder names\n",
    "    video_folder = 'videos'\n",
    "    pdf_folder = 'pdfs'\n",
    "    images_folder = 'images'\n",
    "    unclassified_folder = 'unclassified'\n",
    "\n",
    "    # Create folders if they don't exist\n",
    "    folders = [video_folder, pdf_folder, images_folder, unclassified_folder]\n",
    "    for folder in folders:\n",
    "        folder_path = os.path.join(directory_path, folder)\n",
    "        if not os.path.exists(folder_path):\n",
    "            os.makedirs(folder_path)\n",
    "\n",
    "    # Iterate through all files in the directory\n",
    "    for filename in os.listdir(directory_path):\n",
    "        file_path = os.path.join(directory_path, filename)\n",
    "\n",
    "        # Check if it's a file\n",
    "        if os.path.isfile(file_path):\n",
    "            # Get the file extension\n",
    "            _, file_extension = os.path.splitext(filename)\n",
    "\n",
    "            # Categorize files based on extension\n",
    "            if file_extension.lower() in ['.mp4', '.avi', '.mkv', '.dat']:\n",
    "                destination_folder = video_folder\n",
    "            elif file_extension.lower() == '.pdf':\n",
    "                destination_folder = pdf_folder\n",
    "            elif file_extension.lower() in ['.jpg', '.jpeg', '.png', '.gif']:\n",
    "                destination_folder = images_folder\n",
    "            else:\n",
    "                destination_folder = unclassified_folder\n",
    "\n",
    "            # Move the file to the corresponding folder\n",
    "            destination_path = os.path.join(directory_path, destination_folder, filename)\n",
    "            shutil.move(file_path, destination_path)\n",
    "            print(f\"Moved {filename} to {destination_folder} folder.\")\n",
    "\n",
    "            \n",
    "directory_path = './data'\n",
    "categorize_and_move_files(directory_path)\n"
   ]
  },
  {
   "cell_type": "markdown",
   "id": "9db55d31",
   "metadata": {},
   "source": [
    "**Video Data Reading/Analysis**"
   ]
  },
  {
   "cell_type": "code",
   "execution_count": 8,
   "id": "ac97be22",
   "metadata": {},
   "outputs": [],
   "source": [
    "# Function to get video information\n",
    "def get_video_info(video_path):\n",
    "    cap = cv2.VideoCapture(video_path)\n",
    "    \n",
    "    # Get number of frames and resolution\n",
    "    num_frames = int(cap.get(cv2.CAP_PROP_FRAME_COUNT))\n",
    "    resolution = (int(cap.get(cv2.CAP_PROP_FRAME_WIDTH)), int(cap.get(cv2.CAP_PROP_FRAME_HEIGHT)))\n",
    "    frame_rate = cap.get(cv2.CAP_PROP_FPS)\n",
    "    # Calculate duration using number of frames and frame rate\n",
    "    duration = num_frames / frame_rate if frame_rate > 0 else 0\n",
    "    # Get codec information\n",
    "    codec_fourcc = int(cap.get(cv2.CAP_PROP_FOURCC))\n",
    "    codec = chr(codec_fourcc & 0xFF) + chr((codec_fourcc & 0xFF00) >> 8) + chr((codec_fourcc & 0xFF0000) >> 16) + chr((codec_fourcc & 0xFF000000) >> 24)\n",
    "\n",
    "\n",
    "    cap.release()\n",
    "\n",
    "    return num_frames, resolution, duration, frame_rate, codec"
   ]
  },
  {
   "cell_type": "code",
   "execution_count": 9,
   "id": "1af6f3e3",
   "metadata": {},
   "outputs": [],
   "source": [
    "# Directory path\n",
    "directory_path = './data/videos'\n",
    "\n",
    "# Ensure the directory path is valid\n",
    "if not os.path.isdir(directory_path):\n",
    "    print(\"Invalid directory path.\")\n",
    "else:\n",
    "    # Initialize an empty list to store file information\n",
    "    file_info_list = []\n",
    "\n",
    "    # Iterate through all files in the directory\n",
    "    for filename in os.listdir(directory_path):\n",
    "        file_path = os.path.join(directory_path, filename)\n",
    "\n",
    "        # Check if it's a file\n",
    "        if os.path.isfile(file_path):\n",
    "            # Extract filename, extension, and filepath\n",
    "            file_info = {\n",
    "                'filename': os.path.splitext(filename)[0],  # Store filename without extension\n",
    "                'extension': os.path.splitext(filename)[1],\n",
    "                'filepath': os.path.normpath(file_path)  # Normalize file path\n",
    "            }\n",
    "            # Get video information\n",
    "            num_frames, resolution, duration, frame_rate, codec = get_video_info(file_path)\n",
    "            file_info['num_frames'] = num_frames\n",
    "            file_info['resolution'] = resolution\n",
    "            file_info['duration'] = duration\n",
    "            file_info['frame_rate'] = frame_rate\n",
    "            file_info['codec'] = codec\n",
    "\n",
    "            \n",
    "            \n",
    "            file_info_list.append(file_info)\n",
    "\n",
    "    # Create a DataFrame from the list of file information\n",
    "    video_file_info_df = pd.DataFrame(file_info_list)\n"
   ]
  },
  {
   "cell_type": "code",
   "execution_count": 10,
   "id": "c189ec68",
   "metadata": {},
   "outputs": [
    {
     "data": {
      "text/html": [
       "<div>\n",
       "<style scoped>\n",
       "    .dataframe tbody tr th:only-of-type {\n",
       "        vertical-align: middle;\n",
       "    }\n",
       "\n",
       "    .dataframe tbody tr th {\n",
       "        vertical-align: top;\n",
       "    }\n",
       "\n",
       "    .dataframe thead th {\n",
       "        text-align: right;\n",
       "    }\n",
       "</style>\n",
       "<table border=\"1\" class=\"dataframe\">\n",
       "  <thead>\n",
       "    <tr style=\"text-align: right;\">\n",
       "      <th></th>\n",
       "      <th>filename</th>\n",
       "      <th>extension</th>\n",
       "      <th>filepath</th>\n",
       "      <th>num_frames</th>\n",
       "      <th>resolution</th>\n",
       "      <th>duration</th>\n",
       "      <th>frame_rate</th>\n",
       "      <th>codec</th>\n",
       "    </tr>\n",
       "  </thead>\n",
       "  <tbody>\n",
       "    <tr>\n",
       "      <th>0</th>\n",
       "      <td>AVSEQ01</td>\n",
       "      <td>.DAT</td>\n",
       "      <td>data\\videos\\AVSEQ01.DAT</td>\n",
       "      <td>14487</td>\n",
       "      <td>(352, 288)</td>\n",
       "      <td>579.4800</td>\n",
       "      <td>25.00000</td>\n",
       "      <td>mpg1</td>\n",
       "    </tr>\n",
       "    <tr>\n",
       "      <th>1</th>\n",
       "      <td>AVSEQ02</td>\n",
       "      <td>.DAT</td>\n",
       "      <td>data\\videos\\AVSEQ02.DAT</td>\n",
       "      <td>7067</td>\n",
       "      <td>(352, 288)</td>\n",
       "      <td>282.6800</td>\n",
       "      <td>25.00000</td>\n",
       "      <td>mpg1</td>\n",
       "    </tr>\n",
       "    <tr>\n",
       "      <th>2</th>\n",
       "      <td>AVSEQ03</td>\n",
       "      <td>.DAT</td>\n",
       "      <td>data\\videos\\AVSEQ03.DAT</td>\n",
       "      <td>10426</td>\n",
       "      <td>(352, 288)</td>\n",
       "      <td>417.0400</td>\n",
       "      <td>25.00000</td>\n",
       "      <td>mpg1</td>\n",
       "    </tr>\n",
       "    <tr>\n",
       "      <th>3</th>\n",
       "      <td>AVSEQ04</td>\n",
       "      <td>.DAT</td>\n",
       "      <td>data\\videos\\AVSEQ04.DAT</td>\n",
       "      <td>8116</td>\n",
       "      <td>(352, 288)</td>\n",
       "      <td>324.6400</td>\n",
       "      <td>25.00000</td>\n",
       "      <td>mpg1</td>\n",
       "    </tr>\n",
       "    <tr>\n",
       "      <th>4</th>\n",
       "      <td>chief olusegun obasanjo free health program (C...</td>\n",
       "      <td>.mp4</td>\n",
       "      <td>data\\videos\\chief olusegun obasanjo free healt...</td>\n",
       "      <td>126012</td>\n",
       "      <td>(854, 480)</td>\n",
       "      <td>4204.6004</td>\n",
       "      <td>29.97003</td>\n",
       "      <td>h264</td>\n",
       "    </tr>\n",
       "    <tr>\n",
       "      <th>5</th>\n",
       "      <td>media chat 1</td>\n",
       "      <td>.mp4</td>\n",
       "      <td>data\\videos\\media chat 1.mp4</td>\n",
       "      <td>22503</td>\n",
       "      <td>(720, 576)</td>\n",
       "      <td>900.1200</td>\n",
       "      <td>25.00000</td>\n",
       "      <td>h264</td>\n",
       "    </tr>\n",
       "    <tr>\n",
       "      <th>6</th>\n",
       "      <td>media chat 4</td>\n",
       "      <td>.mp4</td>\n",
       "      <td>data\\videos\\media chat 4.mp4</td>\n",
       "      <td>20496</td>\n",
       "      <td>(720, 576)</td>\n",
       "      <td>819.8400</td>\n",
       "      <td>25.00000</td>\n",
       "      <td>h264</td>\n",
       "    </tr>\n",
       "  </tbody>\n",
       "</table>\n",
       "</div>"
      ],
      "text/plain": [
       "                                            filename extension  \\\n",
       "0                                            AVSEQ01      .DAT   \n",
       "1                                            AVSEQ02      .DAT   \n",
       "2                                            AVSEQ03      .DAT   \n",
       "3                                            AVSEQ04      .DAT   \n",
       "4  chief olusegun obasanjo free health program (C...      .mp4   \n",
       "5                                       media chat 1      .mp4   \n",
       "6                                       media chat 4      .mp4   \n",
       "\n",
       "                                            filepath  num_frames  resolution  \\\n",
       "0                            data\\videos\\AVSEQ01.DAT       14487  (352, 288)   \n",
       "1                            data\\videos\\AVSEQ02.DAT        7067  (352, 288)   \n",
       "2                            data\\videos\\AVSEQ03.DAT       10426  (352, 288)   \n",
       "3                            data\\videos\\AVSEQ04.DAT        8116  (352, 288)   \n",
       "4  data\\videos\\chief olusegun obasanjo free healt...      126012  (854, 480)   \n",
       "5                       data\\videos\\media chat 1.mp4       22503  (720, 576)   \n",
       "6                       data\\videos\\media chat 4.mp4       20496  (720, 576)   \n",
       "\n",
       "    duration  frame_rate codec  \n",
       "0   579.4800    25.00000  mpg1  \n",
       "1   282.6800    25.00000  mpg1  \n",
       "2   417.0400    25.00000  mpg1  \n",
       "3   324.6400    25.00000  mpg1  \n",
       "4  4204.6004    29.97003  h264  \n",
       "5   900.1200    25.00000  h264  \n",
       "6   819.8400    25.00000  h264  "
      ]
     },
     "execution_count": 10,
     "metadata": {},
     "output_type": "execute_result"
    }
   ],
   "source": [
    "# Display the DataFrame\n",
    "video_file_info_df.head(10)"
   ]
  },
  {
   "cell_type": "markdown",
   "id": "b10d02bf",
   "metadata": {},
   "source": [
    "**Data Extraction From Files**"
   ]
  },
  {
   "cell_type": "code",
   "execution_count": 11,
   "id": "8c14c355",
   "metadata": {},
   "outputs": [
    {
     "name": "stdout",
     "output_type": "stream",
     "text": [
      "./data/videos/AVSEQ01.DAT\n",
      "MoviePy - Writing audio in ./audio/AVSEQ01.wav\n"
     ]
    },
    {
     "name": "stderr",
     "output_type": "stream",
     "text": [
      "                                                                                                                       \r"
     ]
    },
    {
     "name": "stdout",
     "output_type": "stream",
     "text": [
      "MoviePy - Done.\n",
      "Transcribing chunk 1/116...\n",
      "Error processing AVSEQ01: \n",
      "./data/videos/AVSEQ02.DAT\n",
      "MoviePy - Writing audio in ./audio/AVSEQ02.wav\n"
     ]
    },
    {
     "name": "stderr",
     "output_type": "stream",
     "text": [
      "                                                                                                                       \r"
     ]
    },
    {
     "name": "stdout",
     "output_type": "stream",
     "text": [
      "MoviePy - Done.\n",
      "Transcribing chunk 1/57...\n",
      "Error processing AVSEQ02: \n",
      "./data/videos/AVSEQ03.DAT\n",
      "MoviePy - Writing audio in ./audio/AVSEQ03.wav\n"
     ]
    },
    {
     "name": "stderr",
     "output_type": "stream",
     "text": [
      "                                                                                                                       \r"
     ]
    },
    {
     "name": "stdout",
     "output_type": "stream",
     "text": [
      "MoviePy - Done.\n",
      "Transcribing chunk 1/84...\n",
      "Error processing AVSEQ03: \n",
      "./data/videos/AVSEQ04.DAT\n",
      "MoviePy - Writing audio in ./audio/AVSEQ04.wav\n"
     ]
    },
    {
     "name": "stderr",
     "output_type": "stream",
     "text": [
      "                                                                                                                       \r"
     ]
    },
    {
     "name": "stdout",
     "output_type": "stream",
     "text": [
      "MoviePy - Done.\n",
      "Transcribing chunk 1/65...\n",
      "Error processing AVSEQ04: \n",
      "./data/videos/chief olusegun obasanjo free health program (COOFEHEP.mp4\n",
      "MoviePy - Writing audio in ./audio/chief olusegun obasanjo free health program (COOFEHEP.wav\n"
     ]
    },
    {
     "name": "stderr",
     "output_type": "stream",
     "text": [
      "                                                                                                                       \r"
     ]
    },
    {
     "name": "stdout",
     "output_type": "stream",
     "text": [
      "MoviePy - Done.\n",
      "Transcribing chunk 1/841...\n",
      "Error processing chief olusegun obasanjo free health program (COOFEHEP: \n",
      "./data/videos/media chat 1.mp4\n",
      "MoviePy - Writing audio in ./audio/media chat 1.wav\n"
     ]
    },
    {
     "name": "stderr",
     "output_type": "stream",
     "text": [
      "                                                                                                                       \r"
     ]
    },
    {
     "name": "stdout",
     "output_type": "stream",
     "text": [
      "MoviePy - Done.\n",
      "Transcribing chunk 1/181...\n",
      "Error processing media chat 1: \n",
      "./data/videos/media chat 4.mp4\n",
      "MoviePy - Writing audio in ./audio/media chat 4.wav\n"
     ]
    },
    {
     "name": "stderr",
     "output_type": "stream",
     "text": [
      "                                                                                                                       \r"
     ]
    },
    {
     "name": "stdout",
     "output_type": "stream",
     "text": [
      "MoviePy - Done.\n",
      "Transcribing chunk 1/165...\n",
      "Transcribing chunk 2/165...\n",
      "Transcribing chunk 3/165...\n",
      "Transcribing chunk 4/165...\n",
      "Error processing media chat 4: \n"
     ]
    }
   ],
   "source": [
    "from moviepy.editor import VideoFileClip\n",
    "import speech_recognition as sr\n",
    "import tempfile\n",
    "from pydub import AudioSegment\n",
    "\n",
    "\n",
    "# Function to extract audio from video file using moviepy\n",
    "def extract_audio(video_file):\n",
    "    video_clip = VideoFileClip(video_file)\n",
    "    audio_clip = video_clip.audio\n",
    "    return audio_clip\n",
    "\n",
    "def chunk_audio_and_save(audio_path, chunk_length=5000):  # chunk_length in milliseconds\n",
    "    audio = AudioSegment.from_wav(audio_path)\n",
    "    length_audio = len(audio)\n",
    "    chunk_paths = []\n",
    "    for i, chunk in enumerate(range(0, length_audio, chunk_length)):\n",
    "        chunk_audio = audio[chunk:chunk + chunk_length]\n",
    "        chunk_path = f\"./temp_chunk_{i}.wav\"\n",
    "        chunk_audio.export(chunk_path, format=\"wav\")\n",
    "        chunk_paths.append(chunk_path)\n",
    "    return chunk_paths\n",
    "\n",
    "# Function to convert audio to text using SpeechRecognition\n",
    "def audio_to_text(filename, audio_file):\n",
    "    audio_file_name = f'./audio/{filename}.wav'\n",
    "    audio_file.write_audiofile(audio_file_name)\n",
    "    chunk_file_paths = chunk_audio_and_save(audio_file_name)\n",
    "    # Initialize recognizer \n",
    "    r = sr.Recognizer() \n",
    "    text = \"\"\n",
    "    \n",
    "    for i, file_path in enumerate(chunk_file_paths):\n",
    "        print(f\"Transcribing chunk {i+1}/{len(chunk_file_paths)}...\")\n",
    "        # Load the audio file \n",
    "        with sr.AudioFile(file_path) as source: \n",
    "            data = r.record(source) \n",
    "\n",
    "        # Convert speech to text \n",
    "        part_text = r.recognize_google(data)\n",
    "        text += part_text\n",
    "        os.remove(file_path)  # Clean up chunk file\n",
    "\n",
    "    return text\n",
    "\n",
    "# Iterate through each row in the DataFrame\n",
    "for index, row in video_file_info_df.iterrows():\n",
    "    # Check if it's a video file (.mp4, .dat)\n",
    "    if row['extension'].lower() in ['.mp4', '.dat']:\n",
    "        try:\n",
    "            video_path = \"./\" + row['filepath'].replace('\\\\', '/')\n",
    "            print(video_path)\n",
    "            # Extract audio from video\n",
    "            audio_clip = extract_audio(video_path)\n",
    "\n",
    "            # Convert audio to text\n",
    "            audio_text = audio_to_text(row['filename'], audio_clip)\n",
    "\n",
    "            # Update 'audio_text' column in the DataFrame\n",
    "            video_file_info_df.at[index, 'audio_text'] = audio_text\n",
    "        except Exception as e:\n",
    "            print(f\"Error processing {row['filename']}: {e}\")\n"
   ]
  },
  {
   "cell_type": "code",
   "execution_count": 12,
   "id": "c686abf8",
   "metadata": {},
   "outputs": [
    {
     "data": {
      "text/html": [
       "<div>\n",
       "<style scoped>\n",
       "    .dataframe tbody tr th:only-of-type {\n",
       "        vertical-align: middle;\n",
       "    }\n",
       "\n",
       "    .dataframe tbody tr th {\n",
       "        vertical-align: top;\n",
       "    }\n",
       "\n",
       "    .dataframe thead th {\n",
       "        text-align: right;\n",
       "    }\n",
       "</style>\n",
       "<table border=\"1\" class=\"dataframe\">\n",
       "  <thead>\n",
       "    <tr style=\"text-align: right;\">\n",
       "      <th></th>\n",
       "      <th>filename</th>\n",
       "      <th>extension</th>\n",
       "      <th>filepath</th>\n",
       "      <th>num_frames</th>\n",
       "      <th>resolution</th>\n",
       "      <th>duration</th>\n",
       "      <th>frame_rate</th>\n",
       "      <th>codec</th>\n",
       "    </tr>\n",
       "  </thead>\n",
       "  <tbody>\n",
       "    <tr>\n",
       "      <th>0</th>\n",
       "      <td>AVSEQ01</td>\n",
       "      <td>.DAT</td>\n",
       "      <td>data\\videos\\AVSEQ01.DAT</td>\n",
       "      <td>14487</td>\n",
       "      <td>(352, 288)</td>\n",
       "      <td>579.4800</td>\n",
       "      <td>25.00000</td>\n",
       "      <td>mpg1</td>\n",
       "    </tr>\n",
       "    <tr>\n",
       "      <th>1</th>\n",
       "      <td>AVSEQ02</td>\n",
       "      <td>.DAT</td>\n",
       "      <td>data\\videos\\AVSEQ02.DAT</td>\n",
       "      <td>7067</td>\n",
       "      <td>(352, 288)</td>\n",
       "      <td>282.6800</td>\n",
       "      <td>25.00000</td>\n",
       "      <td>mpg1</td>\n",
       "    </tr>\n",
       "    <tr>\n",
       "      <th>2</th>\n",
       "      <td>AVSEQ03</td>\n",
       "      <td>.DAT</td>\n",
       "      <td>data\\videos\\AVSEQ03.DAT</td>\n",
       "      <td>10426</td>\n",
       "      <td>(352, 288)</td>\n",
       "      <td>417.0400</td>\n",
       "      <td>25.00000</td>\n",
       "      <td>mpg1</td>\n",
       "    </tr>\n",
       "    <tr>\n",
       "      <th>3</th>\n",
       "      <td>AVSEQ04</td>\n",
       "      <td>.DAT</td>\n",
       "      <td>data\\videos\\AVSEQ04.DAT</td>\n",
       "      <td>8116</td>\n",
       "      <td>(352, 288)</td>\n",
       "      <td>324.6400</td>\n",
       "      <td>25.00000</td>\n",
       "      <td>mpg1</td>\n",
       "    </tr>\n",
       "    <tr>\n",
       "      <th>4</th>\n",
       "      <td>chief olusegun obasanjo free health program (C...</td>\n",
       "      <td>.mp4</td>\n",
       "      <td>data\\videos\\chief olusegun obasanjo free healt...</td>\n",
       "      <td>126012</td>\n",
       "      <td>(854, 480)</td>\n",
       "      <td>4204.6004</td>\n",
       "      <td>29.97003</td>\n",
       "      <td>h264</td>\n",
       "    </tr>\n",
       "  </tbody>\n",
       "</table>\n",
       "</div>"
      ],
      "text/plain": [
       "                                            filename extension  \\\n",
       "0                                            AVSEQ01      .DAT   \n",
       "1                                            AVSEQ02      .DAT   \n",
       "2                                            AVSEQ03      .DAT   \n",
       "3                                            AVSEQ04      .DAT   \n",
       "4  chief olusegun obasanjo free health program (C...      .mp4   \n",
       "\n",
       "                                            filepath  num_frames  resolution  \\\n",
       "0                            data\\videos\\AVSEQ01.DAT       14487  (352, 288)   \n",
       "1                            data\\videos\\AVSEQ02.DAT        7067  (352, 288)   \n",
       "2                            data\\videos\\AVSEQ03.DAT       10426  (352, 288)   \n",
       "3                            data\\videos\\AVSEQ04.DAT        8116  (352, 288)   \n",
       "4  data\\videos\\chief olusegun obasanjo free healt...      126012  (854, 480)   \n",
       "\n",
       "    duration  frame_rate codec  \n",
       "0   579.4800    25.00000  mpg1  \n",
       "1   282.6800    25.00000  mpg1  \n",
       "2   417.0400    25.00000  mpg1  \n",
       "3   324.6400    25.00000  mpg1  \n",
       "4  4204.6004    29.97003  h264  "
      ]
     },
     "execution_count": 12,
     "metadata": {},
     "output_type": "execute_result"
    }
   ],
   "source": [
    "# Display the updated DataFrame\n",
    "video_file_info_df.head()"
   ]
  },
  {
   "cell_type": "markdown",
   "id": "05bbbf62",
   "metadata": {},
   "source": [
    "**Image Data Reading/Analysis**"
   ]
  },
  {
   "cell_type": "code",
   "execution_count": 13,
   "id": "5706cde2",
   "metadata": {},
   "outputs": [
    {
     "name": "stdout",
     "output_type": "stream",
     "text": [
      "Requirement already satisfied: pytesseract in c:\\users\\oopli\\anaconda3\\lib\\site-packages (0.3.10)\n",
      "Requirement already satisfied: packaging>=21.3 in c:\\users\\oopli\\anaconda3\\lib\\site-packages (from pytesseract) (21.3)\n",
      "Requirement already satisfied: Pillow>=8.0.0 in c:\\users\\oopli\\anaconda3\\lib\\site-packages (from pytesseract) (10.0.1)\n",
      "Requirement already satisfied: pyparsing!=3.0.5,>=2.0.2 in c:\\users\\oopli\\anaconda3\\lib\\site-packages (from packaging>=21.3->pytesseract) (3.0.4)\n"
     ]
    }
   ],
   "source": [
    "!pip install pytesseract"
   ]
  },
  {
   "cell_type": "code",
   "execution_count": 14,
   "id": "f777a0e6",
   "metadata": {},
   "outputs": [],
   "source": [
    "import pytesseract\n",
    "from PIL import Image\n",
    "\n",
    "pytesseract.pytesseract.tesseract_cmd = r'C:\\Program Files\\Tesseract-OCR\\tesseract.exe'\n"
   ]
  },
  {
   "cell_type": "code",
   "execution_count": 15,
   "id": "56d8830b",
   "metadata": {},
   "outputs": [],
   "source": [
    "# Function to calculate image noise \n",
    "def calculate_noise(image):\n",
    "    gray = cv2.cvtColor(image, cv2.COLOR_BGR2GRAY)\n",
    "    noise = cv2.meanStdDev(gray)[1][0]\n",
    "    return noise"
   ]
  },
  {
   "cell_type": "code",
   "execution_count": 16,
   "id": "b7f3fed1",
   "metadata": {},
   "outputs": [],
   "source": [
    "# Function to get dominant color\n",
    "def get_dominant_color(image):\n",
    "    # Reshape image to a list of pixels\n",
    "    pixels = image.reshape((-1, 3))\n",
    "\n",
    "    # Calculate histogram\n",
    "    hist = np.histogramdd(pixels, bins=(256, 256, 256), range=[(0, 256), (0, 256), (0, 256)])[0]\n",
    "\n",
    "    # Find the dominant color\n",
    "    dominant_color = np.unravel_index(np.argmax(hist), hist.shape)\n",
    "\n",
    "    return dominant_color"
   ]
  },
  {
   "cell_type": "code",
   "execution_count": 17,
   "id": "1231402e",
   "metadata": {},
   "outputs": [],
   "source": [
    "# Function to extract text using OCR\n",
    "def extract_text(image_path):\n",
    "    # Read the image using Pillow (PIL)\n",
    "    img_pil = Image.open(image_path)\n",
    "\n",
    "    # Perform OCR using Tesseract\n",
    "    text = pytesseract.image_to_string(img_pil)\n",
    "\n",
    "    return text"
   ]
  },
  {
   "cell_type": "code",
   "execution_count": 18,
   "id": "74e11af6",
   "metadata": {},
   "outputs": [],
   "source": [
    "# Function to get image information\n",
    "def get_image_info(image_path):\n",
    "    img = cv2.imread(image_path)\n",
    "\n",
    "    # Get basic image information\n",
    "    filename = os.path.splitext(os.path.basename(image_path))[0]\n",
    "    extension = os.path.splitext(image_path)[1]\n",
    "    resolution = img.shape[:2]\n",
    "    num_pixels = img.size\n",
    "    is_grayscale = len(img.shape) < 3\n",
    "    noise = calculate_noise(img)\n",
    "    size = os.path.getsize(image_path)\n",
    "    \n",
    "    mean_intensity = img.mean()\n",
    "    std_intensity = img.std()\n",
    "    min_intensity = img.min()\n",
    "    max_intensity = img.max()\n",
    "    \n",
    "    # Color channels\n",
    "    num_channels = img.shape[2] if len(img.shape) == 3 else 1\n",
    "\n",
    "    # Dominant color\n",
    "    dominant_color = get_dominant_color(img)\n",
    "\n",
    "    # Aspect ratio\n",
    "    aspect_ratio = resolution[0] / resolution[1] if resolution[1] != 0 else 0\n",
    "    \n",
    "    # Extract text using OCR\n",
    "    text = extract_text(image_path)\n",
    "\n",
    "    return {\n",
    "        'filename': filename,\n",
    "        'extension': extension,\n",
    "        'filepath': os.path.normpath(image_path),\n",
    "        'resolution': resolution,\n",
    "        'num_pixels': num_pixels,\n",
    "        'is_grayscale': is_grayscale,\n",
    "        'noise': noise,\n",
    "        'size': size,\n",
    "        'mean_intensity': mean_intensity,\n",
    "        'std_intensity': std_intensity,\n",
    "        'min_intensity': min_intensity,\n",
    "        'max_intensity': max_intensity,\n",
    "        'num_channels': num_channels,\n",
    "        'dominant_color': dominant_color,\n",
    "        'aspect_ratio': aspect_ratio,\n",
    "        'text': text\n",
    "    }"
   ]
  },
  {
   "cell_type": "code",
   "execution_count": 19,
   "id": "79452d69",
   "metadata": {},
   "outputs": [],
   "source": [
    "# Directory path\n",
    "directory_path = './data/images'\n",
    "\n",
    "# Ensure the directory path is valid\n",
    "if not os.path.isdir(directory_path):\n",
    "    print(\"Invalid directory path.\")\n",
    "else:\n",
    "    # Initialize an empty list to store file information\n",
    "    file_info_list = []\n",
    "\n",
    "    # Iterate through all files in the directory\n",
    "    for filename in os.listdir(directory_path):\n",
    "        image_path = os.path.join(directory_path, filename)\n",
    "\n",
    "        # Check if it's an image file\n",
    "        if os.path.isfile(image_path) and any(image_path.lower().endswith(ext) for ext in ['.jpg', '.jpeg', '.png', '.gif']):\n",
    "            # Get image information\n",
    "            image_info = get_image_info(image_path)\n",
    "            file_info_list.append(image_info)\n",
    "\n",
    "    # Create a DataFrame from the list of file information\n",
    "    image_file_info_df = pd.DataFrame(file_info_list)\n"
   ]
  },
  {
   "cell_type": "code",
   "execution_count": 20,
   "id": "091900ee",
   "metadata": {},
   "outputs": [
    {
     "data": {
      "text/html": [
       "<div>\n",
       "<style scoped>\n",
       "    .dataframe tbody tr th:only-of-type {\n",
       "        vertical-align: middle;\n",
       "    }\n",
       "\n",
       "    .dataframe tbody tr th {\n",
       "        vertical-align: top;\n",
       "    }\n",
       "\n",
       "    .dataframe thead th {\n",
       "        text-align: right;\n",
       "    }\n",
       "</style>\n",
       "<table border=\"1\" class=\"dataframe\">\n",
       "  <thead>\n",
       "    <tr style=\"text-align: right;\">\n",
       "      <th></th>\n",
       "      <th>filename</th>\n",
       "      <th>extension</th>\n",
       "      <th>filepath</th>\n",
       "      <th>resolution</th>\n",
       "      <th>num_pixels</th>\n",
       "      <th>is_grayscale</th>\n",
       "      <th>noise</th>\n",
       "      <th>size</th>\n",
       "      <th>mean_intensity</th>\n",
       "      <th>std_intensity</th>\n",
       "      <th>min_intensity</th>\n",
       "      <th>max_intensity</th>\n",
       "      <th>num_channels</th>\n",
       "      <th>dominant_color</th>\n",
       "      <th>aspect_ratio</th>\n",
       "      <th>text</th>\n",
       "    </tr>\n",
       "  </thead>\n",
       "  <tbody>\n",
       "    <tr>\n",
       "      <th>0</th>\n",
       "      <td>0001</td>\n",
       "      <td>.jpg</td>\n",
       "      <td>data\\images\\0001.jpg</td>\n",
       "      <td>(2955, 2000)</td>\n",
       "      <td>17730000</td>\n",
       "      <td>False</td>\n",
       "      <td>[29.55783589969031]</td>\n",
       "      <td>589465</td>\n",
       "      <td>202.173847</td>\n",
       "      <td>38.261689</td>\n",
       "      <td>0</td>\n",
       "      <td>-1</td>\n",
       "      <td>3</td>\n",
       "      <td>(167, 217, 240)</td>\n",
       "      <td>1.477500</td>\n",
       "      <td>a\\n\\nas , HISTORM oO F) AR! (ttME 7. ‘N\\n\\n——\\...</td>\n",
       "    </tr>\n",
       "    <tr>\n",
       "      <th>1</th>\n",
       "      <td>baba's browser page</td>\n",
       "      <td>.jpeg</td>\n",
       "      <td>data\\images\\baba's browser page.jpeg</td>\n",
       "      <td>(177, 284)</td>\n",
       "      <td>150804</td>\n",
       "      <td>False</td>\n",
       "      <td>[23.867786693629224]</td>\n",
       "      <td>6542</td>\n",
       "      <td>241.298918</td>\n",
       "      <td>24.138366</td>\n",
       "      <td>0</td>\n",
       "      <td>-1</td>\n",
       "      <td>3</td>\n",
       "      <td>(255, 255, 255)</td>\n",
       "      <td>0.623239</td>\n",
       "      <td></td>\n",
       "    </tr>\n",
       "    <tr>\n",
       "      <th>2</th>\n",
       "      <td>High Court of Lagos State Holden at Lagos on D...</td>\n",
       "      <td>.jpg</td>\n",
       "      <td>data\\images\\High Court of Lagos State Holden a...</td>\n",
       "      <td>(3875, 2346)</td>\n",
       "      <td>27272250</td>\n",
       "      <td>False</td>\n",
       "      <td>[28.76593228829025]</td>\n",
       "      <td>825542</td>\n",
       "      <td>208.957622</td>\n",
       "      <td>32.867835</td>\n",
       "      <td>0</td>\n",
       "      <td>-1</td>\n",
       "      <td>3</td>\n",
       "      <td>(193, 229, 235)</td>\n",
       "      <td>1.651748</td>\n",
       "      <td>J ) :\\n‘ IN THE HIGH COURT OF LAGOS STATE =\\n\\...</td>\n",
       "    </tr>\n",
       "    <tr>\n",
       "      <th>3</th>\n",
       "      <td>land document</td>\n",
       "      <td>.jpeg</td>\n",
       "      <td>data\\images\\land document.jpeg</td>\n",
       "      <td>(193, 261)</td>\n",
       "      <td>151119</td>\n",
       "      <td>False</td>\n",
       "      <td>[22.134641845460056]</td>\n",
       "      <td>6237</td>\n",
       "      <td>238.323427</td>\n",
       "      <td>25.113684</td>\n",
       "      <td>14</td>\n",
       "      <td>-1</td>\n",
       "      <td>3</td>\n",
       "      <td>(255, 255, 255)</td>\n",
       "      <td>0.739464</td>\n",
       "      <td></td>\n",
       "    </tr>\n",
       "    <tr>\n",
       "      <th>4</th>\n",
       "      <td>Letter from Aje to Omo mi owon. 2.2. 1952-1</td>\n",
       "      <td>.png</td>\n",
       "      <td>data\\images\\Letter from Aje to Omo mi owon. 2....</td>\n",
       "      <td>(1989, 1614)</td>\n",
       "      <td>9630738</td>\n",
       "      <td>False</td>\n",
       "      <td>[25.66764635565612]</td>\n",
       "      <td>2189399</td>\n",
       "      <td>182.649418</td>\n",
       "      <td>30.718398</td>\n",
       "      <td>16</td>\n",
       "      <td>-1</td>\n",
       "      <td>3</td>\n",
       "      <td>(165, 195, 213)</td>\n",
       "      <td>1.232342</td>\n",
       "      <td>beogues 5\\n\\nUta Nbotebt Stet ,\\n\\n2{2]o2.\\nWi...</td>\n",
       "    </tr>\n",
       "  </tbody>\n",
       "</table>\n",
       "</div>"
      ],
      "text/plain": [
       "                                            filename extension  \\\n",
       "0                                               0001      .jpg   \n",
       "1                                baba's browser page     .jpeg   \n",
       "2  High Court of Lagos State Holden at Lagos on D...      .jpg   \n",
       "3                                      land document     .jpeg   \n",
       "4        Letter from Aje to Omo mi owon. 2.2. 1952-1      .png   \n",
       "\n",
       "                                            filepath    resolution  \\\n",
       "0                               data\\images\\0001.jpg  (2955, 2000)   \n",
       "1               data\\images\\baba's browser page.jpeg    (177, 284)   \n",
       "2  data\\images\\High Court of Lagos State Holden a...  (3875, 2346)   \n",
       "3                     data\\images\\land document.jpeg    (193, 261)   \n",
       "4  data\\images\\Letter from Aje to Omo mi owon. 2....  (1989, 1614)   \n",
       "\n",
       "   num_pixels  is_grayscale                 noise     size  mean_intensity  \\\n",
       "0    17730000         False   [29.55783589969031]   589465      202.173847   \n",
       "1      150804         False  [23.867786693629224]     6542      241.298918   \n",
       "2    27272250         False   [28.76593228829025]   825542      208.957622   \n",
       "3      151119         False  [22.134641845460056]     6237      238.323427   \n",
       "4     9630738         False   [25.66764635565612]  2189399      182.649418   \n",
       "\n",
       "   std_intensity  min_intensity  max_intensity  num_channels   dominant_color  \\\n",
       "0      38.261689              0             -1             3  (167, 217, 240)   \n",
       "1      24.138366              0             -1             3  (255, 255, 255)   \n",
       "2      32.867835              0             -1             3  (193, 229, 235)   \n",
       "3      25.113684             14             -1             3  (255, 255, 255)   \n",
       "4      30.718398             16             -1             3  (165, 195, 213)   \n",
       "\n",
       "   aspect_ratio                                               text  \n",
       "0      1.477500  a\\n\\nas , HISTORM oO F) AR! (ttME 7. ‘N\\n\\n——\\...  \n",
       "1      0.623239                                                     \n",
       "2      1.651748  J ) :\\n‘ IN THE HIGH COURT OF LAGOS STATE =\\n\\...  \n",
       "3      0.739464                                                     \n",
       "4      1.232342  beogues 5\\n\\nUta Nbotebt Stet ,\\n\\n2{2]o2.\\nWi...  "
      ]
     },
     "execution_count": 20,
     "metadata": {},
     "output_type": "execute_result"
    }
   ],
   "source": [
    "# Display the DataFrame\n",
    "image_file_info_df.head()"
   ]
  },
  {
   "cell_type": "code",
   "execution_count": 21,
   "id": "0ad3b783",
   "metadata": {},
   "outputs": [
    {
     "name": "stdout",
     "output_type": "stream",
     "text": [
      "<class 'pandas.core.frame.DataFrame'>\n",
      "RangeIndex: 42 entries, 0 to 41\n",
      "Data columns (total 16 columns):\n",
      " #   Column          Non-Null Count  Dtype  \n",
      "---  ------          --------------  -----  \n",
      " 0   filename        42 non-null     object \n",
      " 1   extension       42 non-null     object \n",
      " 2   filepath        42 non-null     object \n",
      " 3   resolution      42 non-null     object \n",
      " 4   num_pixels      42 non-null     int64  \n",
      " 5   is_grayscale    42 non-null     bool   \n",
      " 6   noise           42 non-null     object \n",
      " 7   size            42 non-null     int64  \n",
      " 8   mean_intensity  42 non-null     float64\n",
      " 9   std_intensity   42 non-null     float64\n",
      " 10  min_intensity   42 non-null     int8   \n",
      " 11  max_intensity   42 non-null     int8   \n",
      " 12  num_channels    42 non-null     int64  \n",
      " 13  dominant_color  42 non-null     object \n",
      " 14  aspect_ratio    42 non-null     float64\n",
      " 15  text            42 non-null     object \n",
      "dtypes: bool(1), float64(3), int64(3), int8(2), object(7)\n",
      "memory usage: 4.5+ KB\n"
     ]
    }
   ],
   "source": [
    "image_file_info_df.info()"
   ]
  },
  {
   "cell_type": "code",
   "execution_count": 22,
   "id": "51da6966",
   "metadata": {},
   "outputs": [
    {
     "data": {
      "text/html": [
       "<div>\n",
       "<style scoped>\n",
       "    .dataframe tbody tr th:only-of-type {\n",
       "        vertical-align: middle;\n",
       "    }\n",
       "\n",
       "    .dataframe tbody tr th {\n",
       "        vertical-align: top;\n",
       "    }\n",
       "\n",
       "    .dataframe thead th {\n",
       "        text-align: right;\n",
       "    }\n",
       "</style>\n",
       "<table border=\"1\" class=\"dataframe\">\n",
       "  <thead>\n",
       "    <tr style=\"text-align: right;\">\n",
       "      <th></th>\n",
       "      <th>num_pixels</th>\n",
       "      <th>size</th>\n",
       "      <th>mean_intensity</th>\n",
       "      <th>std_intensity</th>\n",
       "      <th>min_intensity</th>\n",
       "      <th>max_intensity</th>\n",
       "      <th>num_channels</th>\n",
       "      <th>aspect_ratio</th>\n",
       "    </tr>\n",
       "  </thead>\n",
       "  <tbody>\n",
       "    <tr>\n",
       "      <th>count</th>\n",
       "      <td>4.200000e+01</td>\n",
       "      <td>4.200000e+01</td>\n",
       "      <td>42.000000</td>\n",
       "      <td>42.000000</td>\n",
       "      <td>42.000000</td>\n",
       "      <td>42.000000</td>\n",
       "      <td>42.0</td>\n",
       "      <td>42.000000</td>\n",
       "    </tr>\n",
       "    <tr>\n",
       "      <th>mean</th>\n",
       "      <td>3.633671e+06</td>\n",
       "      <td>4.171160e+05</td>\n",
       "      <td>207.066498</td>\n",
       "      <td>50.161018</td>\n",
       "      <td>6.023810</td>\n",
       "      <td>-1.023810</td>\n",
       "      <td>3.0</td>\n",
       "      <td>0.906874</td>\n",
       "    </tr>\n",
       "    <tr>\n",
       "      <th>std</th>\n",
       "      <td>5.560128e+06</td>\n",
       "      <td>7.110242e+05</td>\n",
       "      <td>33.554081</td>\n",
       "      <td>17.357772</td>\n",
       "      <td>12.410633</td>\n",
       "      <td>0.154303</td>\n",
       "      <td>0.0</td>\n",
       "      <td>0.316170</td>\n",
       "    </tr>\n",
       "    <tr>\n",
       "      <th>min</th>\n",
       "      <td>9.535500e+04</td>\n",
       "      <td>6.237000e+03</td>\n",
       "      <td>84.014517</td>\n",
       "      <td>23.102223</td>\n",
       "      <td>0.000000</td>\n",
       "      <td>-2.000000</td>\n",
       "      <td>3.0</td>\n",
       "      <td>0.333333</td>\n",
       "    </tr>\n",
       "    <tr>\n",
       "      <th>25%</th>\n",
       "      <td>1.514340e+05</td>\n",
       "      <td>1.659475e+04</td>\n",
       "      <td>194.667681</td>\n",
       "      <td>34.773437</td>\n",
       "      <td>0.000000</td>\n",
       "      <td>-1.000000</td>\n",
       "      <td>3.0</td>\n",
       "      <td>0.638095</td>\n",
       "    </tr>\n",
       "    <tr>\n",
       "      <th>50%</th>\n",
       "      <td>9.570000e+05</td>\n",
       "      <td>6.731400e+04</td>\n",
       "      <td>213.580015</td>\n",
       "      <td>51.694753</td>\n",
       "      <td>0.000000</td>\n",
       "      <td>-1.000000</td>\n",
       "      <td>3.0</td>\n",
       "      <td>0.835897</td>\n",
       "    </tr>\n",
       "    <tr>\n",
       "      <th>75%</th>\n",
       "      <td>5.084505e+06</td>\n",
       "      <td>3.925172e+05</td>\n",
       "      <td>230.452270</td>\n",
       "      <td>65.321842</td>\n",
       "      <td>4.000000</td>\n",
       "      <td>-1.000000</td>\n",
       "      <td>3.0</td>\n",
       "      <td>1.157233</td>\n",
       "    </tr>\n",
       "    <tr>\n",
       "      <th>max</th>\n",
       "      <td>2.727225e+07</td>\n",
       "      <td>2.250976e+06</td>\n",
       "      <td>249.711790</td>\n",
       "      <td>86.048175</td>\n",
       "      <td>48.000000</td>\n",
       "      <td>-1.000000</td>\n",
       "      <td>3.0</td>\n",
       "      <td>1.651748</td>\n",
       "    </tr>\n",
       "  </tbody>\n",
       "</table>\n",
       "</div>"
      ],
      "text/plain": [
       "         num_pixels          size  mean_intensity  std_intensity  \\\n",
       "count  4.200000e+01  4.200000e+01       42.000000      42.000000   \n",
       "mean   3.633671e+06  4.171160e+05      207.066498      50.161018   \n",
       "std    5.560128e+06  7.110242e+05       33.554081      17.357772   \n",
       "min    9.535500e+04  6.237000e+03       84.014517      23.102223   \n",
       "25%    1.514340e+05  1.659475e+04      194.667681      34.773437   \n",
       "50%    9.570000e+05  6.731400e+04      213.580015      51.694753   \n",
       "75%    5.084505e+06  3.925172e+05      230.452270      65.321842   \n",
       "max    2.727225e+07  2.250976e+06      249.711790      86.048175   \n",
       "\n",
       "       min_intensity  max_intensity  num_channels  aspect_ratio  \n",
       "count      42.000000      42.000000          42.0     42.000000  \n",
       "mean        6.023810      -1.023810           3.0      0.906874  \n",
       "std        12.410633       0.154303           0.0      0.316170  \n",
       "min         0.000000      -2.000000           3.0      0.333333  \n",
       "25%         0.000000      -1.000000           3.0      0.638095  \n",
       "50%         0.000000      -1.000000           3.0      0.835897  \n",
       "75%         4.000000      -1.000000           3.0      1.157233  \n",
       "max        48.000000      -1.000000           3.0      1.651748  "
      ]
     },
     "execution_count": 22,
     "metadata": {},
     "output_type": "execute_result"
    }
   ],
   "source": [
    "image_file_info_df.describe()"
   ]
  },
  {
   "cell_type": "code",
   "execution_count": 23,
   "id": "a56de71d",
   "metadata": {},
   "outputs": [
    {
     "data": {
      "text/plain": [
       ".jpg     14\n",
       ".jpeg    14\n",
       ".png     14\n",
       "Name: extension, dtype: int64"
      ]
     },
     "execution_count": 23,
     "metadata": {},
     "output_type": "execute_result"
    }
   ],
   "source": [
    "image_file_info_df['extension'].value_counts()"
   ]
  },
  {
   "cell_type": "code",
   "execution_count": 24,
   "id": "c7d29c8b",
   "metadata": {},
   "outputs": [
    {
     "data": {
      "text/html": [
       "<div>\n",
       "<style scoped>\n",
       "    .dataframe tbody tr th:only-of-type {\n",
       "        vertical-align: middle;\n",
       "    }\n",
       "\n",
       "    .dataframe tbody tr th {\n",
       "        vertical-align: top;\n",
       "    }\n",
       "\n",
       "    .dataframe thead th {\n",
       "        text-align: right;\n",
       "    }\n",
       "</style>\n",
       "<table border=\"1\" class=\"dataframe\">\n",
       "  <thead>\n",
       "    <tr style=\"text-align: right;\">\n",
       "      <th></th>\n",
       "      <th>extension</th>\n",
       "      <th>size</th>\n",
       "      <th>num_pixels</th>\n",
       "    </tr>\n",
       "  </thead>\n",
       "  <tbody>\n",
       "    <tr>\n",
       "      <th>0</th>\n",
       "      <td>.jpeg</td>\n",
       "      <td>81662.000000</td>\n",
       "      <td>8.942166e+05</td>\n",
       "    </tr>\n",
       "    <tr>\n",
       "      <th>1</th>\n",
       "      <td>.jpg</td>\n",
       "      <td>188551.642857</td>\n",
       "      <td>5.329808e+06</td>\n",
       "    </tr>\n",
       "    <tr>\n",
       "      <th>2</th>\n",
       "      <td>.png</td>\n",
       "      <td>981134.214286</td>\n",
       "      <td>4.676988e+06</td>\n",
       "    </tr>\n",
       "  </tbody>\n",
       "</table>\n",
       "</div>"
      ],
      "text/plain": [
       "  extension           size    num_pixels\n",
       "0     .jpeg   81662.000000  8.942166e+05\n",
       "1      .jpg  188551.642857  5.329808e+06\n",
       "2      .png  981134.214286  4.676988e+06"
      ]
     },
     "execution_count": 24,
     "metadata": {},
     "output_type": "execute_result"
    }
   ],
   "source": [
    "# Group by extension and calculate average size and number of pixels\n",
    "group_by_extension = image_file_info_df.groupby('extension').agg({\n",
    "    'size': 'mean',\n",
    "    'num_pixels': 'mean'\n",
    "}).reset_index()\n",
    "\n",
    "group_by_extension"
   ]
  },
  {
   "cell_type": "code",
   "execution_count": 25,
   "id": "a869dae9",
   "metadata": {},
   "outputs": [
    {
     "name": "stdout",
     "output_type": "stream",
     "text": [
      "Accuracy: 1.0\n",
      "Confusion Matrix:\n",
      "[[9]]\n"
     ]
    }
   ],
   "source": [
    "from sklearn.model_selection import train_test_split\n",
    "from sklearn.ensemble import RandomForestClassifier\n",
    "from sklearn.metrics import accuracy_score, confusion_matrix\n",
    "from sklearn.tree import DecisionTreeClassifier\n",
    "from sklearn.svm import SVC\n",
    "\n",
    "X = image_file_info_df[['size', 'num_pixels', 'mean_intensity', 'num_channels']]\n",
    "y = image_file_info_df['is_grayscale']\n",
    "\n",
    "X_train, X_test, y_train, y_test = train_test_split(X, y, test_size=0.2, random_state=42)\n",
    "\n",
    "# Initialize and train a RandomForestClassifier\n",
    "clf = RandomForestClassifier()\n",
    "clf.fit(X_train, y_train)\n",
    "\n",
    "# Make predictions and evaluate accuracy\n",
    "predictions = clf.predict(X_test)\n",
    "accuracy = accuracy_score(y_test, predictions)\n",
    "conf_matrix = confusion_matrix(y_test, predictions)\n",
    "\n",
    "# Display metrics\n",
    "print(f'Accuracy: {accuracy}')\n",
    "\n",
    "print(f'Confusion Matrix:\\n{conf_matrix}')\n"
   ]
  },
  {
   "cell_type": "code",
   "execution_count": 70,
   "id": "387d3f80",
   "metadata": {},
   "outputs": [
    {
     "name": "stdout",
     "output_type": "stream",
     "text": [
      "RandomForestClassifier:\n",
      "Accuracy: 0.6470588235294118\n",
      "Confusion Matrix:\n",
      "[[4 2 0]\n",
      " [0 4 0]\n",
      " [4 0 3]]\n",
      "\n",
      "DecisionTreeClassifier:\n",
      "Accuracy: 0.4117647058823529\n",
      "Confusion Matrix:\n",
      "[[1 4 1]\n",
      " [1 2 1]\n",
      " [2 1 4]]\n",
      "\n",
      "SVM Classifier:\n",
      "Accuracy: 0.47058823529411764\n",
      "Confusion Matrix:\n",
      "[[1 5 0]\n",
      " [0 4 0]\n",
      " [1 3 3]]\n",
      "\n",
      "GradientBoostingClassifier:\n",
      "Accuracy: 0.47058823529411764\n",
      "Confusion Matrix:\n",
      "[[3 2 1]\n",
      " [1 2 1]\n",
      " [2 2 3]]\n"
     ]
    }
   ],
   "source": [
    "from sklearn.model_selection import train_test_split\n",
    "from sklearn.ensemble import RandomForestClassifier, GradientBoostingClassifier\n",
    "from sklearn.tree import DecisionTreeClassifier\n",
    "from sklearn.svm import SVC\n",
    "from sklearn.metrics import accuracy_score, confusion_matrix\n",
    "from sklearn.preprocessing import StandardScaler\n",
    "\n",
    "# Creating a new target variable based on 'extension'\n",
    "image_file_info_df['target_variable'] = pd.Categorical(image_file_info_df['extension']).codes\n",
    "\n",
    "# Features and target\n",
    "X = image_file_info_df[['size', 'num_pixels', 'mean_intensity', 'num_channels','aspect_ratio', \n",
    "                        'min_intensity', 'max_intensity', 'std_intensity']]\n",
    "y = image_file_info_df['target_variable']\n",
    "\n",
    "# Split the data\n",
    "X_train, X_test, y_train, y_test = train_test_split(X, y, test_size=0.40, random_state=42)\n",
    "\n",
    "# Initialize and fit the scaler\n",
    "scaler = StandardScaler()\n",
    "X_train_scaled = scaler.fit_transform(X_train)\n",
    "X_test_scaled = scaler.transform(X_test)\n",
    "# Initialize and train a RandomForestClassifier\n",
    "clf_rf = RandomForestClassifier()\n",
    "clf_rf.fit(X_train_scaled, y_train)\n",
    "\n",
    "# Initialize and train a DecisionTreeClassifier\n",
    "clf_dt = DecisionTreeClassifier()\n",
    "clf_dt.fit(X_train_scaled, y_train)\n",
    "\n",
    "# Initialize and train a Support Vector Machine (SVM) Classifier\n",
    "clf_svm = SVC()\n",
    "clf_svm.fit(X_train_scaled, y_train)\n",
    "\n",
    "# Initialize and train a GradientBoostingClassifier\n",
    "clf_gb = GradientBoostingClassifier()\n",
    "clf_gb.fit(X_train_scaled, y_train)\n",
    "\n",
    "# Make predictions and evaluate accuracy for RandomForestClassifier\n",
    "predictions_rf = clf_rf.predict(X_test_scaled)\n",
    "accuracy_rf = accuracy_score(y_test, predictions_rf)\n",
    "conf_matrix_rf = confusion_matrix(y_test, predictions_rf)\n",
    "\n",
    "# Make predictions and evaluate accuracy for DecisionTreeClassifier\n",
    "predictions_dt = clf_dt.predict(X_test_scaled)\n",
    "accuracy_dt = accuracy_score(y_test, predictions_dt)\n",
    "conf_matrix_dt = confusion_matrix(y_test, predictions_dt)\n",
    "\n",
    "# Make predictions and evaluate accuracy for SVM Classifier\n",
    "predictions_svm = clf_svm.predict(X_test_scaled)\n",
    "accuracy_svm = accuracy_score(y_test, predictions_svm)\n",
    "conf_matrix_svm = confusion_matrix(y_test, predictions_svm)\n",
    "\n",
    "# Make predictions and evaluate accuracy for GradientBoostingClassifier\n",
    "predictions_gb = clf_gb.predict(X_test_scaled)\n",
    "accuracy_gb = accuracy_score(y_test, predictions_gb)\n",
    "conf_matrix_gb = confusion_matrix(y_test, predictions_gb)\n",
    "\n",
    "# Display metrics for RandomForestClassifier\n",
    "print(\"RandomForestClassifier:\")\n",
    "print(f'Accuracy: {accuracy_rf}')\n",
    "print(f'Confusion Matrix:\\n{conf_matrix_rf}\\n')\n",
    "\n",
    "# Display metrics for DecisionTreeClassifier\n",
    "print(\"DecisionTreeClassifier:\")\n",
    "print(f'Accuracy: {accuracy_dt}')\n",
    "print(f'Confusion Matrix:\\n{conf_matrix_dt}\\n')\n",
    "\n",
    "# Display metrics for SVM Classifier\n",
    "print(\"SVM Classifier:\")\n",
    "print(f'Accuracy: {accuracy_svm}')\n",
    "print(f'Confusion Matrix:\\n{conf_matrix_svm}\\n')\n",
    "\n",
    "# Display metrics for GradientBoostingClassifier\n",
    "print(\"GradientBoostingClassifier:\")\n",
    "print(f'Accuracy: {accuracy_gb}')\n",
    "print(f'Confusion Matrix:\\n{conf_matrix_gb}')\n"
   ]
  },
  {
   "cell_type": "markdown",
   "id": "91fd9b80",
   "metadata": {},
   "source": [
    "**Visualization**"
   ]
  },
  {
   "cell_type": "code",
   "execution_count": 27,
   "id": "5d9e094a",
   "metadata": {},
   "outputs": [
    {
     "data": {
      "image/png": "[encoded data removed]",
      "text/plain": [
       "<Figure size 432x288 with 1 Axes>"
      ]
     },
     "metadata": {
      "needs_background": "light"
     },
     "output_type": "display_data"
    }
   ],
   "source": [
    "import matplotlib.pyplot as plt\n",
    "\n",
    "# Plot histogram for image size\n",
    "image_file_info_df['size'].hist(bins=20)\n",
    "plt.title('Histogram of Image Sizes')\n",
    "plt.xlabel('Size (bytes)')\n",
    "plt.ylabel('Frequency')\n",
    "plt.show()\n"
   ]
  },
  {
   "cell_type": "code",
   "execution_count": 28,
   "id": "7c25e48e",
   "metadata": {},
   "outputs": [
    {
     "data": {
      "image/png": "[encoded data removed]",
      "text/plain": [
       "<Figure size 432x288 with 1 Axes>"
      ]
     },
     "metadata": {
      "needs_background": "light"
     },
     "output_type": "display_data"
    }
   ],
   "source": [
    "import seaborn as sns\n",
    "\n",
    "# Box plot for image size\n",
    "sns.boxplot(x=image_file_info_df['size'])\n",
    "plt.title('Box Plot of Image Sizes')\n",
    "plt.xlabel('Size (bytes)')\n",
    "plt.show()\n"
   ]
  },
  {
   "cell_type": "code",
   "execution_count": 29,
   "id": "449dd2cc",
   "metadata": {},
   "outputs": [
    {
     "data": {
      "image/png": "[encoded data removed]",
      "text/plain": [
       "<Figure size 432x288 with 2 Axes>"
      ]
     },
     "metadata": {
      "needs_background": "light"
     },
     "output_type": "display_data"
    }
   ],
   "source": [
    "correlation_matrix = image_file_info_df.corr()\n",
    "sns.heatmap(correlation_matrix, annot=True, cmap='coolwarm', linewidths=.5)\n",
    "plt.title('Correlation Matrix')\n",
    "plt.show()"
   ]
  },
  {
   "cell_type": "code",
   "execution_count": 30,
   "id": "3d0f13f8",
   "metadata": {},
   "outputs": [
    {
     "data": {
      "image/png": "[encoded data removed]",
      "text/plain": [
       "<Figure size 720x720 with 20 Axes>"
      ]
     },
     "metadata": {
      "needs_background": "light"
     },
     "output_type": "display_data"
    }
   ],
   "source": [
    "numerical_features = ['size', 'num_pixels', 'mean_intensity', 'num_channels']\n",
    "sns.pairplot(image_file_info_df[numerical_features])\n",
    "plt.suptitle('Pairplot of Numerical Features', y=1.02)\n",
    "plt.show()\n"
   ]
  },
  {
   "cell_type": "code",
   "execution_count": 31,
   "id": "8604d1e2",
   "metadata": {},
   "outputs": [
    {
     "data": {
      "image/png": "[encoded data removed]",
      "text/plain": [
       "<Figure size 576x432 with 1 Axes>"
      ]
     },
     "metadata": {
      "needs_background": "light"
     },
     "output_type": "display_data"
    }
   ],
   "source": [
    "plt.figure(figsize=(8, 6))\n",
    "sns.countplot(data=image_file_info_df, x='is_grayscale')\n",
    "plt.title('Class Distribution (Grayscale vs. Color)')\n",
    "plt.xlabel('Image Type')\n",
    "plt.ylabel('Count')\n",
    "plt.show()\n"
   ]
  },
  {
   "cell_type": "code",
   "execution_count": 32,
   "id": "e35cc02d",
   "metadata": {},
   "outputs": [
    {
     "data": {
      "image/png": "[encoded data removed]",
      "text/plain": [
       "<Figure size 720x576 with 1 Axes>"
      ]
     },
     "metadata": {
      "needs_background": "light"
     },
     "output_type": "display_data"
    }
   ],
   "source": [
    "from mpl_toolkits.mplot3d import Axes3D\n",
    "\n",
    "fig = plt.figure(figsize=(10, 8))\n",
    "ax = fig.add_subplot(111, projection='3d')\n",
    "\n",
    "ax.scatter(image_file_info_df['num_pixels'], image_file_info_df['mean_intensity'], image_file_info_df['size'], c='blue', s=10)\n",
    "ax.set_xlabel('Num Pixels')\n",
    "ax.set_ylabel('Mean Intensity')\n",
    "ax.set_zlabel('Size (bytes)')\n",
    "\n",
    "plt.title('3D Scatter Plot of Numerical Features')\n",
    "plt.show()\n"
   ]
  },
  {
   "cell_type": "code",
   "execution_count": 33,
   "id": "c24ce2d7",
   "metadata": {},
   "outputs": [
    {
     "data": {
      "image/png": "[encoded data removed]",
      "text/plain": [
       "<Figure size 1008x576 with 4 Axes>"
      ]
     },
     "metadata": {
      "needs_background": "light"
     },
     "output_type": "display_data"
    }
   ],
   "source": [
    "plt.figure(figsize=(14, 8))\n",
    "\n",
    "for i, feature in enumerate(numerical_features, 1):\n",
    "    plt.subplot(2, 2, i)\n",
    "    sns.boxplot(data=image_file_info_df, x='is_grayscale', y=feature)\n",
    "    plt.title(f'Box Plot of {feature} by Image Type')\n",
    "\n",
    "plt.tight_layout()\n",
    "plt.show()\n",
    "\n"
   ]
  },
  {
   "cell_type": "code",
   "execution_count": 34,
   "id": "d421cf0b",
   "metadata": {},
   "outputs": [
    {
     "data": {
      "image/png": "[encoded data removed]",
      "text/plain": [
       "<Figure size 1008x576 with 4 Axes>"
      ]
     },
     "metadata": {
      "needs_background": "light"
     },
     "output_type": "display_data"
    }
   ],
   "source": [
    "plt.figure(figsize=(14, 8))\n",
    "\n",
    "for i, feature in enumerate(numerical_features, 1):\n",
    "    plt.subplot(2, 2, i)\n",
    "    sns.violinplot(data=image_file_info_df, x='is_grayscale', y=feature)\n",
    "    plt.title(f'Violin Plot of {feature} by Image Type')\n",
    "\n",
    "plt.tight_layout()\n",
    "plt.show()"
   ]
  },
  {
   "cell_type": "code",
   "execution_count": 35,
   "id": "6d44b785",
   "metadata": {
    "tags": []
   },
   "outputs": [
    {
     "data": {
      "image/png": "[encoded data removed]",
      "text/plain": [
       "<Figure size 864x432 with 1 Axes>"
      ]
     },
     "metadata": {
      "needs_background": "light"
     },
     "output_type": "display_data"
    }
   ],
   "source": [
    "plt.figure(figsize=(12, 6))\n",
    "sns.countplot(data=image_file_info_df, x='extension')\n",
    "plt.title('Count of Images by Extension')\n",
    "plt.xlabel('Image Extension')\n",
    "plt.ylabel('Count')\n",
    "plt.xticks(rotation=45)\n",
    "plt.show()"
   ]
  },
  {
   "cell_type": "code",
   "execution_count": 36,
   "id": "5cb6478e",
   "metadata": {
    "tags": []
   },
   "outputs": [
    {
     "data": {
      "image/png": "[encoded data removed]",
      "text/plain": [
       "<Figure size 864x576 with 1 Axes>"
      ]
     },
     "metadata": {
      "needs_background": "light"
     },
     "output_type": "display_data"
    }
   ],
   "source": [
    "from pandas.plotting import parallel_coordinates\n",
    "\n",
    "plt.figure(figsize=(12, 8))\n",
    "parallel_coordinates(image_file_info_df[numerical_features + ['is_grayscale']], 'is_grayscale', colormap='coolwarm')\n",
    "plt.title('Parallel Coordinates Plot of Numerical Features')\n",
    "plt.show()"
   ]
  },
  {
   "cell_type": "code",
   "execution_count": 37,
   "id": "028ab688",
   "metadata": {},
   "outputs": [
    {
     "data": {
      "image/png": "[encoded data removed]",
      "text/plain": [
       "<Figure size 864x576 with 1 Axes>"
      ]
     },
     "metadata": {
      "needs_background": "light"
     },
     "output_type": "display_data"
    }
   ],
   "source": [
    "from pandas.plotting import radviz\n",
    "\n",
    "plt.figure(figsize=(12, 8))\n",
    "radviz(image_file_info_df[numerical_features + ['is_grayscale']], 'is_grayscale', colormap='coolwarm')\n",
    "plt.title('RadViz Plot of Numerical Features')\n",
    "plt.show()"
   ]
  },
  {
   "cell_type": "markdown",
   "id": "9fd6d9c1",
   "metadata": {},
   "source": [
    "**Natural Language Processing - NLP**"
   ]
  },
  {
   "cell_type": "code",
   "execution_count": 38,
   "id": "47e777c8",
   "metadata": {},
   "outputs": [
    {
     "data": {
      "text/html": [
       "<div>\n",
       "<style scoped>\n",
       "    .dataframe tbody tr th:only-of-type {\n",
       "        vertical-align: middle;\n",
       "    }\n",
       "\n",
       "    .dataframe tbody tr th {\n",
       "        vertical-align: top;\n",
       "    }\n",
       "\n",
       "    .dataframe thead th {\n",
       "        text-align: right;\n",
       "    }\n",
       "</style>\n",
       "<table border=\"1\" class=\"dataframe\">\n",
       "  <thead>\n",
       "    <tr style=\"text-align: right;\">\n",
       "      <th></th>\n",
       "      <th>filename</th>\n",
       "      <th>extension</th>\n",
       "      <th>filepath</th>\n",
       "      <th>resolution</th>\n",
       "      <th>num_pixels</th>\n",
       "      <th>is_grayscale</th>\n",
       "      <th>noise</th>\n",
       "      <th>size</th>\n",
       "      <th>mean_intensity</th>\n",
       "      <th>std_intensity</th>\n",
       "      <th>min_intensity</th>\n",
       "      <th>max_intensity</th>\n",
       "      <th>num_channels</th>\n",
       "      <th>dominant_color</th>\n",
       "      <th>aspect_ratio</th>\n",
       "      <th>text</th>\n",
       "      <th>target_variable</th>\n",
       "    </tr>\n",
       "  </thead>\n",
       "  <tbody>\n",
       "    <tr>\n",
       "      <th>0</th>\n",
       "      <td>0001</td>\n",
       "      <td>.jpg</td>\n",
       "      <td>data\\images\\0001.jpg</td>\n",
       "      <td>(2955, 2000)</td>\n",
       "      <td>17730000</td>\n",
       "      <td>False</td>\n",
       "      <td>[29.55783589969031]</td>\n",
       "      <td>589465</td>\n",
       "      <td>202.173847</td>\n",
       "      <td>38.261689</td>\n",
       "      <td>0</td>\n",
       "      <td>-1</td>\n",
       "      <td>3</td>\n",
       "      <td>(167, 217, 240)</td>\n",
       "      <td>1.477500</td>\n",
       "      <td>a\\n\\nas , HISTORM oO F) AR! (ttME 7. ‘N\\n\\n——\\...</td>\n",
       "      <td>1</td>\n",
       "    </tr>\n",
       "    <tr>\n",
       "      <th>1</th>\n",
       "      <td>baba's browser page</td>\n",
       "      <td>.jpeg</td>\n",
       "      <td>data\\images\\baba's browser page.jpeg</td>\n",
       "      <td>(177, 284)</td>\n",
       "      <td>150804</td>\n",
       "      <td>False</td>\n",
       "      <td>[23.867786693629224]</td>\n",
       "      <td>6542</td>\n",
       "      <td>241.298918</td>\n",
       "      <td>24.138366</td>\n",
       "      <td>0</td>\n",
       "      <td>-1</td>\n",
       "      <td>3</td>\n",
       "      <td>(255, 255, 255)</td>\n",
       "      <td>0.623239</td>\n",
       "      <td></td>\n",
       "      <td>0</td>\n",
       "    </tr>\n",
       "    <tr>\n",
       "      <th>2</th>\n",
       "      <td>High Court of Lagos State Holden at Lagos on D...</td>\n",
       "      <td>.jpg</td>\n",
       "      <td>data\\images\\High Court of Lagos State Holden a...</td>\n",
       "      <td>(3875, 2346)</td>\n",
       "      <td>27272250</td>\n",
       "      <td>False</td>\n",
       "      <td>[28.76593228829025]</td>\n",
       "      <td>825542</td>\n",
       "      <td>208.957622</td>\n",
       "      <td>32.867835</td>\n",
       "      <td>0</td>\n",
       "      <td>-1</td>\n",
       "      <td>3</td>\n",
       "      <td>(193, 229, 235)</td>\n",
       "      <td>1.651748</td>\n",
       "      <td>J ) :\\n‘ IN THE HIGH COURT OF LAGOS STATE =\\n\\...</td>\n",
       "      <td>1</td>\n",
       "    </tr>\n",
       "    <tr>\n",
       "      <th>3</th>\n",
       "      <td>land document</td>\n",
       "      <td>.jpeg</td>\n",
       "      <td>data\\images\\land document.jpeg</td>\n",
       "      <td>(193, 261)</td>\n",
       "      <td>151119</td>\n",
       "      <td>False</td>\n",
       "      <td>[22.134641845460056]</td>\n",
       "      <td>6237</td>\n",
       "      <td>238.323427</td>\n",
       "      <td>25.113684</td>\n",
       "      <td>14</td>\n",
       "      <td>-1</td>\n",
       "      <td>3</td>\n",
       "      <td>(255, 255, 255)</td>\n",
       "      <td>0.739464</td>\n",
       "      <td></td>\n",
       "      <td>0</td>\n",
       "    </tr>\n",
       "    <tr>\n",
       "      <th>4</th>\n",
       "      <td>Letter from Aje to Omo mi owon. 2.2. 1952-1</td>\n",
       "      <td>.png</td>\n",
       "      <td>data\\images\\Letter from Aje to Omo mi owon. 2....</td>\n",
       "      <td>(1989, 1614)</td>\n",
       "      <td>9630738</td>\n",
       "      <td>False</td>\n",
       "      <td>[25.66764635565612]</td>\n",
       "      <td>2189399</td>\n",
       "      <td>182.649418</td>\n",
       "      <td>30.718398</td>\n",
       "      <td>16</td>\n",
       "      <td>-1</td>\n",
       "      <td>3</td>\n",
       "      <td>(165, 195, 213)</td>\n",
       "      <td>1.232342</td>\n",
       "      <td>beogues 5\\n\\nUta Nbotebt Stet ,\\n\\n2{2]o2.\\nWi...</td>\n",
       "      <td>2</td>\n",
       "    </tr>\n",
       "  </tbody>\n",
       "</table>\n",
       "</div>"
      ],
      "text/plain": [
       "                                            filename extension  \\\n",
       "0                                               0001      .jpg   \n",
       "1                                baba's browser page     .jpeg   \n",
       "2  High Court of Lagos State Holden at Lagos on D...      .jpg   \n",
       "3                                      land document     .jpeg   \n",
       "4        Letter from Aje to Omo mi owon. 2.2. 1952-1      .png   \n",
       "\n",
       "                                            filepath    resolution  \\\n",
       "0                               data\\images\\0001.jpg  (2955, 2000)   \n",
       "1               data\\images\\baba's browser page.jpeg    (177, 284)   \n",
       "2  data\\images\\High Court of Lagos State Holden a...  (3875, 2346)   \n",
       "3                     data\\images\\land document.jpeg    (193, 261)   \n",
       "4  data\\images\\Letter from Aje to Omo mi owon. 2....  (1989, 1614)   \n",
       "\n",
       "   num_pixels  is_grayscale                 noise     size  mean_intensity  \\\n",
       "0    17730000         False   [29.55783589969031]   589465      202.173847   \n",
       "1      150804         False  [23.867786693629224]     6542      241.298918   \n",
       "2    27272250         False   [28.76593228829025]   825542      208.957622   \n",
       "3      151119         False  [22.134641845460056]     6237      238.323427   \n",
       "4     9630738         False   [25.66764635565612]  2189399      182.649418   \n",
       "\n",
       "   std_intensity  min_intensity  max_intensity  num_channels   dominant_color  \\\n",
       "0      38.261689              0             -1             3  (167, 217, 240)   \n",
       "1      24.138366              0             -1             3  (255, 255, 255)   \n",
       "2      32.867835              0             -1             3  (193, 229, 235)   \n",
       "3      25.113684             14             -1             3  (255, 255, 255)   \n",
       "4      30.718398             16             -1             3  (165, 195, 213)   \n",
       "\n",
       "   aspect_ratio                                               text  \\\n",
       "0      1.477500  a\\n\\nas , HISTORM oO F) AR! (ttME 7. ‘N\\n\\n——\\...   \n",
       "1      0.623239                                                      \n",
       "2      1.651748  J ) :\\n‘ IN THE HIGH COURT OF LAGOS STATE =\\n\\...   \n",
       "3      0.739464                                                      \n",
       "4      1.232342  beogues 5\\n\\nUta Nbotebt Stet ,\\n\\n2{2]o2.\\nWi...   \n",
       "\n",
       "   target_variable  \n",
       "0                1  \n",
       "1                0  \n",
       "2                1  \n",
       "3                0  \n",
       "4                2  "
      ]
     },
     "execution_count": 38,
     "metadata": {},
     "output_type": "execute_result"
    }
   ],
   "source": [
    "image_file_info_df.head()"
   ]
  },
  {
   "cell_type": "code",
   "execution_count": 39,
   "id": "ed2c38a6",
   "metadata": {},
   "outputs": [
    {
     "name": "stdout",
     "output_type": "stream",
     "text": [
      "Requirement already satisfied: nltk in c:\\users\\oopli\\anaconda3\\lib\\site-packages (3.7)\n",
      "Requirement already satisfied: click in c:\\users\\oopli\\anaconda3\\lib\\site-packages (from nltk) (8.0.4)\n",
      "Requirement already satisfied: joblib in c:\\users\\oopli\\anaconda3\\lib\\site-packages (from nltk) (1.1.0)\n",
      "Requirement already satisfied: regex>=2021.8.3 in c:\\users\\oopli\\anaconda3\\lib\\site-packages (from nltk) (2022.3.15)\n",
      "Requirement already satisfied: tqdm in c:\\users\\oopli\\anaconda3\\lib\\site-packages (from nltk) (4.64.0)\n",
      "Requirement already satisfied: colorama in c:\\users\\oopli\\anaconda3\\lib\\site-packages (from click->nltk) (0.4.4)\n"
     ]
    }
   ],
   "source": [
    "!pip install nltk"
   ]
  },
  {
   "cell_type": "code",
   "execution_count": 40,
   "id": "fbae2da4",
   "metadata": {},
   "outputs": [],
   "source": [
    "import nltk\n",
    "from nltk.corpus import stopwords\n",
    "from nltk.tokenize import word_tokenize\n",
    "from nltk.stem import PorterStemmer\n",
    "import string"
   ]
  },
  {
   "cell_type": "code",
   "execution_count": 41,
   "id": "ba127851",
   "metadata": {},
   "outputs": [
    {
     "name": "stderr",
     "output_type": "stream",
     "text": [
      "[nltk_data] Downloading package stopwords to\n",
      "[nltk_data]     C:\\Users\\oopli\\AppData\\Roaming\\nltk_data...\n",
      "[nltk_data]   Package stopwords is already up-to-date!\n",
      "[nltk_data] Downloading package punkt to\n",
      "[nltk_data]     C:\\Users\\oopli\\AppData\\Roaming\\nltk_data...\n",
      "[nltk_data]   Package punkt is already up-to-date!\n"
     ]
    }
   ],
   "source": [
    "# Download NLTK resources\n",
    "nltk.download('stopwords')\n",
    "nltk.download('punkt')\n",
    "\n",
    "# Function for text preprocessing\n",
    "def preprocess_text(text):\n",
    "    # Remove punctuation\n",
    "    text = text.translate(str.maketrans('', '', string.punctuation))\n",
    "\n",
    "    # Tokenize the text\n",
    "    tokens = word_tokenize(text)\n",
    "\n",
    "    # Remove stopwords\n",
    "    stop_words = set(stopwords.words('english'))\n",
    "    tokens = [word for word in tokens if word.lower() not in stop_words]\n",
    "\n",
    "    # Stemming\n",
    "    stemmer = PorterStemmer()\n",
    "    tokens = [stemmer.stem(word) for word in tokens]\n",
    "\n",
    "    # Join tokens back to form processed text\n",
    "    processed_text = ' '.join(tokens)\n",
    "\n",
    "    return processed_text\n",
    "\n",
    "# Apply preprocessing to the 'text' column\n",
    "image_file_info_df['processed_text'] = image_file_info_df['text'].apply(preprocess_text)"
   ]
  },
  {
   "cell_type": "code",
   "execution_count": 42,
   "id": "fb6255dc",
   "metadata": {},
   "outputs": [
    {
     "data": {
      "text/html": [
       "<div>\n",
       "<style scoped>\n",
       "    .dataframe tbody tr th:only-of-type {\n",
       "        vertical-align: middle;\n",
       "    }\n",
       "\n",
       "    .dataframe tbody tr th {\n",
       "        vertical-align: top;\n",
       "    }\n",
       "\n",
       "    .dataframe thead th {\n",
       "        text-align: right;\n",
       "    }\n",
       "</style>\n",
       "<table border=\"1\" class=\"dataframe\">\n",
       "  <thead>\n",
       "    <tr style=\"text-align: right;\">\n",
       "      <th></th>\n",
       "      <th>text</th>\n",
       "      <th>processed_text</th>\n",
       "    </tr>\n",
       "  </thead>\n",
       "  <tbody>\n",
       "    <tr>\n",
       "      <th>0</th>\n",
       "      <td>a\\n\\nas , HISTORM oO F) AR! (ttME 7. ‘N\\n\\n——\\...</td>\n",
       "      <td>historm oo f ar ttme 7 ‘ n —— — bperensn unt w...</td>\n",
       "    </tr>\n",
       "    <tr>\n",
       "      <th>1</th>\n",
       "      <td></td>\n",
       "      <td></td>\n",
       "    </tr>\n",
       "    <tr>\n",
       "      <th>2</th>\n",
       "      <td>J ) :\\n‘ IN THE HIGH COURT OF LAGOS STATE =\\n\\...</td>\n",
       "      <td>j ‘ high court lago state divorc e suit wd7575...</td>\n",
       "    </tr>\n",
       "    <tr>\n",
       "      <th>3</th>\n",
       "      <td></td>\n",
       "      <td></td>\n",
       "    </tr>\n",
       "    <tr>\n",
       "      <th>4</th>\n",
       "      <td>beogues 5\\n\\nUta Nbotebt Stet ,\\n\\n2{2]o2.\\nWi...</td>\n",
       "      <td>beogu 5 uta nbotebt stet 22o2 wisk uxt termi c...</td>\n",
       "    </tr>\n",
       "  </tbody>\n",
       "</table>\n",
       "</div>"
      ],
      "text/plain": [
       "                                                text  \\\n",
       "0  a\\n\\nas , HISTORM oO F) AR! (ttME 7. ‘N\\n\\n——\\...   \n",
       "1                                                      \n",
       "2  J ) :\\n‘ IN THE HIGH COURT OF LAGOS STATE =\\n\\...   \n",
       "3                                                      \n",
       "4  beogues 5\\n\\nUta Nbotebt Stet ,\\n\\n2{2]o2.\\nWi...   \n",
       "\n",
       "                                      processed_text  \n",
       "0  historm oo f ar ttme 7 ‘ n —— — bperensn unt w...  \n",
       "1                                                     \n",
       "2  j ‘ high court lago state divorc e suit wd7575...  \n",
       "3                                                     \n",
       "4  beogu 5 uta nbotebt stet 22o2 wisk uxt termi c...  "
      ]
     },
     "execution_count": 42,
     "metadata": {},
     "output_type": "execute_result"
    }
   ],
   "source": [
    "# Display the DataFrame with the processed text column\n",
    "image_file_info_df[['text', 'processed_text']].head()"
   ]
  },
  {
   "cell_type": "code",
   "execution_count": 43,
   "id": "8d0a5e37",
   "metadata": {},
   "outputs": [
    {
     "data": {
      "image/png": "[encoded data removed]",
      "text/plain": [
       "<Figure size 432x288 with 1 Axes>"
      ]
     },
     "metadata": {
      "needs_background": "light"
     },
     "output_type": "display_data"
    },
    {
     "data": {
      "image/png": "[encoded data removed]",
      "text/plain": [
       "<Figure size 432x288 with 1 Axes>"
      ]
     },
     "metadata": {
      "needs_background": "light"
     },
     "output_type": "display_data"
    }
   ],
   "source": [
    "from nltk import FreqDist\n",
    "\n",
    "# Function to plot word frequency\n",
    "def plot_word_frequency(text):\n",
    "    tokens = word_tokenize(text)\n",
    "    freq_dist = FreqDist(tokens)\n",
    "    freq_dist.plot(20, cumulative=False)\n",
    "    plt.title('Top 20 Most Frequent Words')\n",
    "    plt.show()\n",
    "\n",
    "# Apply word frequency analysis to a sample\n",
    "plot_word_frequency(image_file_info_df['processed_text'].iloc[0])"
   ]
  },
  {
   "cell_type": "code",
   "execution_count": 44,
   "id": "9711b5ce",
   "metadata": {},
   "outputs": [
    {
     "name": "stderr",
     "output_type": "stream",
     "text": [
      "[nltk_data] Downloading package vader_lexicon to\n",
      "[nltk_data]     C:\\Users\\oopli\\AppData\\Roaming\\nltk_data...\n",
      "[nltk_data]   Package vader_lexicon is already up-to-date!\n"
     ]
    },
    {
     "data": {
      "text/html": [
       "<div>\n",
       "<style scoped>\n",
       "    .dataframe tbody tr th:only-of-type {\n",
       "        vertical-align: middle;\n",
       "    }\n",
       "\n",
       "    .dataframe tbody tr th {\n",
       "        vertical-align: top;\n",
       "    }\n",
       "\n",
       "    .dataframe thead th {\n",
       "        text-align: right;\n",
       "    }\n",
       "</style>\n",
       "<table border=\"1\" class=\"dataframe\">\n",
       "  <thead>\n",
       "    <tr style=\"text-align: right;\">\n",
       "      <th></th>\n",
       "      <th>processed_text</th>\n",
       "      <th>sentiment_scores</th>\n",
       "    </tr>\n",
       "  </thead>\n",
       "  <tbody>\n",
       "    <tr>\n",
       "      <th>0</th>\n",
       "      <td>historm oo f ar ttme 7 ‘ n —— — bperensn unt w...</td>\n",
       "      <td>{'neg': 0.0, 'neu': 0.969, 'pos': 0.031, 'comp...</td>\n",
       "    </tr>\n",
       "    <tr>\n",
       "      <th>1</th>\n",
       "      <td></td>\n",
       "      <td>{'neg': 0.0, 'neu': 0.0, 'pos': 0.0, 'compound...</td>\n",
       "    </tr>\n",
       "    <tr>\n",
       "      <th>2</th>\n",
       "      <td>j ‘ high court lago state divorc e suit wd7575...</td>\n",
       "      <td>{'neg': 0.0, 'neu': 0.954, 'pos': 0.046, 'comp...</td>\n",
       "    </tr>\n",
       "    <tr>\n",
       "      <th>3</th>\n",
       "      <td></td>\n",
       "      <td>{'neg': 0.0, 'neu': 0.0, 'pos': 0.0, 'compound...</td>\n",
       "    </tr>\n",
       "    <tr>\n",
       "      <th>4</th>\n",
       "      <td>beogu 5 uta nbotebt stet 22o2 wisk uxt termi c...</td>\n",
       "      <td>{'neg': 0.075, 'neu': 0.925, 'pos': 0.0, 'comp...</td>\n",
       "    </tr>\n",
       "  </tbody>\n",
       "</table>\n",
       "</div>"
      ],
      "text/plain": [
       "                                      processed_text  \\\n",
       "0  historm oo f ar ttme 7 ‘ n —— — bperensn unt w...   \n",
       "1                                                      \n",
       "2  j ‘ high court lago state divorc e suit wd7575...   \n",
       "3                                                      \n",
       "4  beogu 5 uta nbotebt stet 22o2 wisk uxt termi c...   \n",
       "\n",
       "                                    sentiment_scores  \n",
       "0  {'neg': 0.0, 'neu': 0.969, 'pos': 0.031, 'comp...  \n",
       "1  {'neg': 0.0, 'neu': 0.0, 'pos': 0.0, 'compound...  \n",
       "2  {'neg': 0.0, 'neu': 0.954, 'pos': 0.046, 'comp...  \n",
       "3  {'neg': 0.0, 'neu': 0.0, 'pos': 0.0, 'compound...  \n",
       "4  {'neg': 0.075, 'neu': 0.925, 'pos': 0.0, 'comp...  "
      ]
     },
     "execution_count": 44,
     "metadata": {},
     "output_type": "execute_result"
    }
   ],
   "source": [
    "from nltk.sentiment import SentimentIntensityAnalyzer\n",
    "nltk.download('vader_lexicon')\n",
    "\n",
    "# Function for sentiment analysis\n",
    "def perform_sentiment_analysis(text):\n",
    "    analyzer = SentimentIntensityAnalyzer()\n",
    "    sentiment_scores = analyzer.polarity_scores(text)\n",
    "    return sentiment_scores\n",
    "\n",
    "# Apply sentiment analysis to a sample\n",
    "image_file_info_df['sentiment_scores'] = image_file_info_df['processed_text'].apply(perform_sentiment_analysis)\n",
    "image_file_info_df[['processed_text', 'sentiment_scores']].head()\n"
   ]
  },
  {
   "cell_type": "code",
   "execution_count": 45,
   "id": "db7114c3",
   "metadata": {},
   "outputs": [
    {
     "name": "stderr",
     "output_type": "stream",
     "text": [
      "[nltk_data] Downloading package maxent_ne_chunker to\n",
      "[nltk_data]     C:\\Users\\oopli\\AppData\\Roaming\\nltk_data...\n",
      "[nltk_data]   Package maxent_ne_chunker is already up-to-date!\n",
      "[nltk_data] Downloading package words to\n",
      "[nltk_data]     C:\\Users\\oopli\\AppData\\Roaming\\nltk_data...\n",
      "[nltk_data]   Package words is already up-to-date!\n"
     ]
    },
    {
     "name": "stdout",
     "output_type": "stream",
     "text": [
      "(S\n",
      "  historm/NN\n",
      "  oo/NN\n",
      "  f/NN\n",
      "  ar/NN\n",
      "  ttme/VBD\n",
      "  7/CD\n",
      "  ‘/NNP\n",
      "  n/JJ\n",
      "  ——/NNP\n",
      "  —/NNP\n",
      "  bperensn/NN\n",
      "  unt/NN\n",
      "  whole/JJ\n",
      "  number/NN\n",
      "  ps/NN\n",
      "  5/CD\n",
      "  atin/NN\n",
      "  ie/NN\n",
      "  1/CD\n",
      "  oe/NN\n",
      "  ee/NN\n",
      "  msess/NN\n",
      "  lin/NN\n",
      "  gand/NN\n",
      "  ge/NN\n",
      "  ee/NN\n",
      "  del/NN\n",
      "  oe/JJ\n",
      "  hath/NN\n",
      "  —/NNP\n",
      "  bs/NN\n",
      "  case/NN\n",
      "  seth/VBD\n",
      "  3/CD\n",
      "  oe/JJ\n",
      "  oe/RB\n",
      "  4/CD\n",
      "  ao/JJ\n",
      "  inao/NN\n",
      "  pen/JJ\n",
      "  che/NN\n",
      "  yp/NN\n",
      "  yiaaae/$\n",
      "  9/CD\n",
      "  ae/NN\n",
      "  ma—waek/NN\n",
      "  gq/NN\n",
      "  ne/NN\n",
      "  ose/JJ\n",
      "  pi/NN\n",
      "  ee/NN\n",
      "  that/WDT\n",
      "  areded/VBD\n",
      "  —/NN)\n"
     ]
    }
   ],
   "source": [
    "from nltk import pos_tag, ne_chunk\n",
    "from nltk.tokenize import word_tokenize\n",
    "nltk.download('maxent_ne_chunker')\n",
    "nltk.download('words')\n",
    "\n",
    "# Function for named entity recognition\n",
    "def extract_named_entities(text):\n",
    "    words = word_tokenize(text)\n",
    "    tagged_words = pos_tag(words)\n",
    "    named_entities = ne_chunk(tagged_words)\n",
    "    return named_entities\n",
    "\n",
    "# Apply named entity recognition to a sample\n",
    "sample_text = image_file_info_df['processed_text'].iloc[0]\n",
    "named_entities = extract_named_entities(sample_text)\n",
    "print(named_entities)"
   ]
  },
  {
   "cell_type": "markdown",
   "id": "22b30aa5",
   "metadata": {},
   "source": [
    "**PDF Data Reading/Analysis**"
   ]
  },
  {
   "cell_type": "code",
   "execution_count": 46,
   "id": "8857e09e",
   "metadata": {},
   "outputs": [
    {
     "name": "stdout",
     "output_type": "stream",
     "text": [
      "Requirement already satisfied: pdf2image in c:\\users\\oopli\\anaconda3\\lib\\site-packages (1.17.0)\n",
      "Requirement already satisfied: pillow in c:\\users\\oopli\\anaconda3\\lib\\site-packages (from pdf2image) (10.0.1)\n"
     ]
    }
   ],
   "source": [
    "!pip install pdf2image"
   ]
  },
  {
   "cell_type": "code",
   "execution_count": 47,
   "id": "7d89f71d",
   "metadata": {},
   "outputs": [
    {
     "name": "stdout",
     "output_type": "stream",
     "text": [
      "Requirement already satisfied: PyMuPDF in c:\\users\\oopli\\anaconda3\\lib\\site-packages (1.23.16)\n",
      "Requirement already satisfied: PyMuPDFb==1.23.9 in c:\\users\\oopli\\anaconda3\\lib\\site-packages (from PyMuPDF) (1.23.9)\n"
     ]
    }
   ],
   "source": [
    "!pip install PyMuPDF"
   ]
  },
  {
   "cell_type": "code",
   "execution_count": 48,
   "id": "3b86c22a",
   "metadata": {},
   "outputs": [],
   "source": [
    "import fitz  # PyMuPDF"
   ]
  },
  {
   "cell_type": "code",
   "execution_count": 49,
   "id": "2cc1b173",
   "metadata": {},
   "outputs": [],
   "source": [
    "# Function to extract text content from PDF\n",
    "def get_text_content(doc):\n",
    "    text_content = ''\n",
    "    for page_num in range(doc.page_count):\n",
    "        page = doc[page_num]\n",
    "        text_content += page.get_text()\n",
    "    return text_content\n",
    "\n",
    "# Function to get the number of images in a PDF\n",
    "def get_num_images(doc):\n",
    "    num_images = 0\n",
    "    for page_num in range(doc.page_count):\n",
    "        page = doc[page_num]\n",
    "        num_images += len(page.get_images(full=True))\n",
    "    return num_images"
   ]
  },
  {
   "cell_type": "code",
   "execution_count": 50,
   "id": "3dac5095",
   "metadata": {},
   "outputs": [],
   "source": [
    "# Function to get PDF information\n",
    "def get_pdf_info(pdf_path):\n",
    "    doc = fitz.open(pdf_path)\n",
    "\n",
    "    # Get basic PDF information\n",
    "    filename = os.path.splitext(os.path.basename(pdf_path))[0]\n",
    "    extension = os.path.splitext(pdf_path)[1]\n",
    "    num_pages = doc.page_count\n",
    "    size = os.path.getsize(pdf_path)\n",
    "\n",
    "    # Additional PDF-related information\n",
    "    text_content = get_text_content(doc)\n",
    "    num_words = len(text_content.split())\n",
    "    num_images = get_num_images(doc)\n",
    "\n",
    "\n",
    "    doc.close()\n",
    "\n",
    "    return {\n",
    "        'filename': filename,\n",
    "        'extension': extension,\n",
    "        'filepath': os.path.normpath(pdf_path),\n",
    "        'num_pages': num_pages,\n",
    "        'size': size,\n",
    "        'text_content': text_content,\n",
    "        'num_words': num_words,\n",
    "        'num_images': num_images\n",
    "    }\n",
    "\n"
   ]
  },
  {
   "cell_type": "code",
   "execution_count": 51,
   "id": "b7fa9fa7",
   "metadata": {},
   "outputs": [],
   "source": [
    "\n",
    "# Directory path\n",
    "directory_path = './data/pdfs'\n",
    "\n",
    "# Ensure the directory path is valid\n",
    "if not os.path.isdir(directory_path):\n",
    "    print(\"Invalid directory path.\")\n",
    "else:\n",
    "    # Initialize an empty list to store file information\n",
    "    file_info_list = []\n",
    "\n",
    "    # Iterate through all files in the directory\n",
    "    for filename in os.listdir(directory_path):\n",
    "        pdf_path = os.path.join(directory_path, filename)\n",
    "\n",
    "        # Check if it's a PDF file\n",
    "        if os.path.isfile(pdf_path) and pdf_path.lower().endswith('.pdf'):\n",
    "            # Get PDF information\n",
    "            pdf_info = get_pdf_info(pdf_path)\n",
    "            file_info_list.append(pdf_info)\n",
    "\n",
    "    # Create a DataFrame from the list of file information\n",
    "    pdf_file_info_df = pd.DataFrame(file_info_list)\n"
   ]
  },
  {
   "cell_type": "code",
   "execution_count": 52,
   "id": "8a0e4a9e",
   "metadata": {},
   "outputs": [
    {
     "data": {
      "text/html": [
       "<div>\n",
       "<style scoped>\n",
       "    .dataframe tbody tr th:only-of-type {\n",
       "        vertical-align: middle;\n",
       "    }\n",
       "\n",
       "    .dataframe tbody tr th {\n",
       "        vertical-align: top;\n",
       "    }\n",
       "\n",
       "    .dataframe thead th {\n",
       "        text-align: right;\n",
       "    }\n",
       "</style>\n",
       "<table border=\"1\" class=\"dataframe\">\n",
       "  <thead>\n",
       "    <tr style=\"text-align: right;\">\n",
       "      <th></th>\n",
       "      <th>filename</th>\n",
       "      <th>extension</th>\n",
       "      <th>filepath</th>\n",
       "      <th>num_pages</th>\n",
       "      <th>size</th>\n",
       "      <th>text_content</th>\n",
       "      <th>num_words</th>\n",
       "      <th>num_images</th>\n",
       "    </tr>\n",
       "  </thead>\n",
       "  <tbody>\n",
       "    <tr>\n",
       "      <th>0</th>\n",
       "      <td>10 Trades Training Regt Re Workshops</td>\n",
       "      <td>.pdf</td>\n",
       "      <td>data\\pdfs\\10 Trades Training Regt Re Workshops...</td>\n",
       "      <td>2</td>\n",
       "      <td>976240</td>\n",
       "      <td></td>\n",
       "      <td>0</td>\n",
       "      <td>2</td>\n",
       "    </tr>\n",
       "    <tr>\n",
       "      <th>1</th>\n",
       "      <td>An Introduction to Industrial Psychology K.Smith</td>\n",
       "      <td>.pdf</td>\n",
       "      <td>data\\pdfs\\An Introduction to Industrial Psycho...</td>\n",
       "      <td>1</td>\n",
       "      <td>154845</td>\n",
       "      <td></td>\n",
       "      <td>0</td>\n",
       "      <td>1</td>\n",
       "    </tr>\n",
       "    <tr>\n",
       "      <th>2</th>\n",
       "      <td>Army Form O 1771</td>\n",
       "      <td>.pdf</td>\n",
       "      <td>data\\pdfs\\Army Form O 1771.pdf</td>\n",
       "      <td>2</td>\n",
       "      <td>722967</td>\n",
       "      <td></td>\n",
       "      <td>0</td>\n",
       "      <td>2</td>\n",
       "    </tr>\n",
       "    <tr>\n",
       "      <th>3</th>\n",
       "      <td>Bin Card, Army Form G.392B</td>\n",
       "      <td>.pdf</td>\n",
       "      <td>data\\pdfs\\Bin Card, Army Form G.392B.pdf</td>\n",
       "      <td>2</td>\n",
       "      <td>604759</td>\n",
       "      <td></td>\n",
       "      <td>0</td>\n",
       "      <td>2</td>\n",
       "    </tr>\n",
       "    <tr>\n",
       "      <th>4</th>\n",
       "      <td>Bricklayers Tool, 10. 10. 63</td>\n",
       "      <td>.pdf</td>\n",
       "      <td>data\\pdfs\\Bricklayers Tool, 10. 10. 63.pdf</td>\n",
       "      <td>1</td>\n",
       "      <td>185764</td>\n",
       "      <td></td>\n",
       "      <td>0</td>\n",
       "      <td>1</td>\n",
       "    </tr>\n",
       "  </tbody>\n",
       "</table>\n",
       "</div>"
      ],
      "text/plain": [
       "                                           filename extension  \\\n",
       "0              10 Trades Training Regt Re Workshops      .pdf   \n",
       "1  An Introduction to Industrial Psychology K.Smith      .pdf   \n",
       "2                                  Army Form O 1771      .pdf   \n",
       "3                        Bin Card, Army Form G.392B      .pdf   \n",
       "4                      Bricklayers Tool, 10. 10. 63      .pdf   \n",
       "\n",
       "                                            filepath  num_pages    size  \\\n",
       "0  data\\pdfs\\10 Trades Training Regt Re Workshops...          2  976240   \n",
       "1  data\\pdfs\\An Introduction to Industrial Psycho...          1  154845   \n",
       "2                     data\\pdfs\\Army Form O 1771.pdf          2  722967   \n",
       "3           data\\pdfs\\Bin Card, Army Form G.392B.pdf          2  604759   \n",
       "4         data\\pdfs\\Bricklayers Tool, 10. 10. 63.pdf          1  185764   \n",
       "\n",
       "  text_content  num_words  num_images  \n",
       "0                       0           2  \n",
       "1                       0           1  \n",
       "2                       0           2  \n",
       "3                       0           2  \n",
       "4                       0           1  "
      ]
     },
     "execution_count": 52,
     "metadata": {},
     "output_type": "execute_result"
    }
   ],
   "source": [
    "# Display the DataFrame\n",
    "pdf_file_info_df.head()"
   ]
  },
  {
   "cell_type": "markdown",
   "id": "7ea6f92c",
   "metadata": {},
   "source": [
    "**Saving DataFrames In Excel**"
   ]
  },
  {
   "cell_type": "code",
   "execution_count": 53,
   "id": "f95eafdc",
   "metadata": {},
   "outputs": [
    {
     "name": "stdout",
     "output_type": "stream",
     "text": [
      "Excel file \"dataframes.xlsx\" has been created with three sheets.\n"
     ]
    }
   ],
   "source": [
    "excel_file_path = 'dataframes.xlsx'\n",
    "\n",
    "# Create an Excel writer object\n",
    "with pd.ExcelWriter(excel_file_path, engine='xlsxwriter') as writer:\n",
    "    # Write each DataFrame to a different sheet\n",
    "    pdf_file_info_df.to_excel(writer, sheet_name='PDF_Info', index=False)\n",
    "    image_file_info_df.to_excel(writer, sheet_name='Image_Info', index=False)\n",
    "    video_file_info_df.to_excel(writer, sheet_name='Video_Info', index=False)\n",
    "\n",
    "print(f'Excel file \"{excel_file_path}\" has been created with three sheets.')\n"
   ]
  },
  {
   "cell_type": "code",
   "execution_count": 54,
   "id": "9913a9bc",
   "metadata": {},
   "outputs": [
    {
     "name": "stdout",
     "output_type": "stream",
     "text": [
      "<class 'pandas.core.frame.DataFrame'>\n",
      "RangeIndex: 42 entries, 0 to 41\n",
      "Data columns (total 19 columns):\n",
      " #   Column            Non-Null Count  Dtype  \n",
      "---  ------            --------------  -----  \n",
      " 0   filename          42 non-null     object \n",
      " 1   extension         42 non-null     object \n",
      " 2   filepath          42 non-null     object \n",
      " 3   resolution        42 non-null     object \n",
      " 4   num_pixels        42 non-null     int64  \n",
      " 5   is_grayscale      42 non-null     bool   \n",
      " 6   noise             42 non-null     object \n",
      " 7   size              42 non-null     int64  \n",
      " 8   mean_intensity    42 non-null     float64\n",
      " 9   std_intensity     42 non-null     float64\n",
      " 10  min_intensity     42 non-null     int8   \n",
      " 11  max_intensity     42 non-null     int8   \n",
      " 12  num_channels      42 non-null     int64  \n",
      " 13  dominant_color    42 non-null     object \n",
      " 14  aspect_ratio      42 non-null     float64\n",
      " 15  text              42 non-null     object \n",
      " 16  target_variable   42 non-null     int8   \n",
      " 17  processed_text    42 non-null     object \n",
      " 18  sentiment_scores  42 non-null     object \n",
      "dtypes: bool(1), float64(3), int64(3), int8(3), object(9)\n",
      "memory usage: 5.2+ KB\n",
      "Data analysis report generated and saved.\n",
      "<class 'pandas.core.frame.DataFrame'>\n",
      "RangeIndex: 7 entries, 0 to 6\n",
      "Data columns (total 8 columns):\n",
      " #   Column      Non-Null Count  Dtype  \n",
      "---  ------      --------------  -----  \n",
      " 0   filename    7 non-null      object \n",
      " 1   extension   7 non-null      object \n",
      " 2   filepath    7 non-null      object \n",
      " 3   num_frames  7 non-null      int64  \n",
      " 4   resolution  7 non-null      object \n",
      " 5   duration    7 non-null      float64\n",
      " 6   frame_rate  7 non-null      float64\n",
      " 7   codec       7 non-null      object \n",
      "dtypes: float64(2), int64(1), object(5)\n",
      "memory usage: 576.0+ bytes\n",
      "Data analysis report generated and saved.\n",
      "<class 'pandas.core.frame.DataFrame'>\n",
      "RangeIndex: 187 entries, 0 to 186\n",
      "Data columns (total 8 columns):\n",
      " #   Column        Non-Null Count  Dtype \n",
      "---  ------        --------------  ----- \n",
      " 0   filename      187 non-null    object\n",
      " 1   extension     187 non-null    object\n",
      " 2   filepath      187 non-null    object\n",
      " 3   num_pages     187 non-null    int64 \n",
      " 4   size          187 non-null    int64 \n",
      " 5   text_content  187 non-null    object\n",
      " 6   num_words     187 non-null    int64 \n",
      " 7   num_images    187 non-null    int64 \n",
      "dtypes: int64(4), object(4)\n",
      "memory usage: 11.8+ KB\n",
      "Data analysis report generated and saved.\n",
      "Analysis results are None. Cannot generate the report.\n"
     ]
    }
   ],
   "source": [
    "# Generate a report summarizing the findings\n",
    "def generate_report(dataframes):\n",
    "    for df in dataframes:\n",
    "        # Create a simple text-based report\n",
    "        report = f\"{df} Data Analysis Report\\n\\n\"\n",
    "        report += \"Data Columns Info:\\n\"\n",
    "        report += str(df.info()) + \"\\n\\n\"\n",
    "        report += \"Summary Statistics:\\n\"\n",
    "        report += str(df.describe()) + \"\\n\\n\"\n",
    "        report += \"Correlation Matrix:\\n\"\n",
    "        report += str(df.corr) + \"\\n\"\n",
    "\n",
    "        # Save the report to a text file\n",
    "        with open('data_analysis_report.txt', 'w') as file:\n",
    "            file.write(report)\n",
    "\n",
    "        print(\"Data analysis report generated and saved.\")\n",
    "    else:\n",
    "        print(\"Analysis results are None. Cannot generate the report.\")\n",
    "\n",
    "all_dataframes = [image_file_info_df,video_file_info_df,pdf_file_info_df]\n",
    "generate_report(all_dataframes)"
   ]
  },
  {
   "cell_type": "code",
   "execution_count": null,
   "id": "9a2ef820",
   "metadata": {},
   "outputs": [],
   "source": []
  }
 ],
 "metadata": {
  "kernelspec": {
   "display_name": "Python 3 (ipykernel)",
   "language": "python",
   "name": "python3"
  },
  "language_info": {
   "codemirror_mode": {
    "name": "ipython",
    "version": 3
   },
   "file_extension": ".py",
   "mimetype": "text/x-python",
   "name": "python",
   "nbconvert_exporter": "python",
   "pygments_lexer": "ipython3",
   "version": "3.9.12"
  }
 },
 "nbformat": 4,
 "nbformat_minor": 5
}
